{
 "cells": [
  {
   "cell_type": "code",
   "execution_count": 1,
   "id": "e9331c27-967b-411d-bc4c-c4138efd940a",
   "metadata": {},
   "outputs": [
    {
     "data": {
      "text/plain": [
       "10"
      ]
     },
     "execution_count": 1,
     "metadata": {},
     "output_type": "execute_result"
    }
   ],
   "source": [
    "10"
   ]
  },
  {
   "cell_type": "code",
   "execution_count": 2,
   "id": "1db18ead-5e0f-4d45-a4d8-a429a53119d1",
   "metadata": {},
   "outputs": [],
   "source": [
    "x = 10"
   ]
  },
  {
   "cell_type": "code",
   "execution_count": 3,
   "id": "d75dbda8-116e-46c5-a97c-d4c8aca588d8",
   "metadata": {},
   "outputs": [
    {
     "data": {
      "text/plain": [
       "10"
      ]
     },
     "execution_count": 3,
     "metadata": {},
     "output_type": "execute_result"
    }
   ],
   "source": [
    "x"
   ]
  },
  {
   "cell_type": "code",
   "execution_count": 4,
   "id": "c571368b-5159-4dca-9aa2-7523a47515bf",
   "metadata": {},
   "outputs": [],
   "source": [
    "y = \"hello python\""
   ]
  },
  {
   "cell_type": "code",
   "execution_count": 5,
   "id": "04769503-dfb4-4774-80a6-b0f975d4c5c1",
   "metadata": {},
   "outputs": [
    {
     "data": {
      "text/plain": [
       "'hello python'"
      ]
     },
     "execution_count": 5,
     "metadata": {},
     "output_type": "execute_result"
    }
   ],
   "source": [
    "y"
   ]
  },
  {
   "cell_type": "code",
   "execution_count": 6,
   "id": "a443feb9-2d26-4b7a-a2b3-96067e6b6b30",
   "metadata": {},
   "outputs": [],
   "source": [
    "b = 3"
   ]
  },
  {
   "cell_type": "code",
   "execution_count": 7,
   "id": "33174d1d-c88a-4325-895c-a21dcd8f6f37",
   "metadata": {},
   "outputs": [
    {
     "data": {
      "text/plain": [
       "3"
      ]
     },
     "execution_count": 7,
     "metadata": {},
     "output_type": "execute_result"
    }
   ],
   "source": [
    "b"
   ]
  },
  {
   "cell_type": "code",
   "execution_count": 8,
   "id": "f57a5ec4-d3fa-4e30-8189-5b84f4511afe",
   "metadata": {},
   "outputs": [
    {
     "data": {
      "text/plain": [
       "13"
      ]
     },
     "execution_count": 8,
     "metadata": {},
     "output_type": "execute_result"
    }
   ],
   "source": [
    "x + b"
   ]
  },
  {
   "cell_type": "code",
   "execution_count": 9,
   "id": "f13ddc5b-2ff2-4499-aacd-f0d6de2cfd0f",
   "metadata": {},
   "outputs": [],
   "source": [
    "name  = 'Morenikeji'"
   ]
  },
  {
   "cell_type": "code",
   "execution_count": 10,
   "id": "9a2b63a7-bf46-4fcd-b5c2-144c27573d29",
   "metadata": {},
   "outputs": [
    {
     "data": {
      "text/plain": [
       "'Morenikeji'"
      ]
     },
     "execution_count": 10,
     "metadata": {},
     "output_type": "execute_result"
    }
   ],
   "source": [
    "name"
   ]
  },
  {
   "cell_type": "code",
   "execution_count": 13,
   "id": "d07e84b9-d9b3-4bfd-b2d8-76795470f115",
   "metadata": {},
   "outputs": [],
   "source": [
    "first_name = 'lola'"
   ]
  },
  {
   "cell_type": "code",
   "execution_count": 14,
   "id": "2ac23fd2-518b-4df6-a528-30cc47dc63a7",
   "metadata": {},
   "outputs": [
    {
     "data": {
      "text/plain": [
       "'lola'"
      ]
     },
     "execution_count": 14,
     "metadata": {},
     "output_type": "execute_result"
    }
   ],
   "source": [
    "first_name"
   ]
  },
  {
   "cell_type": "code",
   "execution_count": 15,
   "id": "81889b7e-5cff-4c99-87bb-e6a35d0a312c",
   "metadata": {},
   "outputs": [],
   "source": [
    "firstname = 'lola'"
   ]
  },
  {
   "cell_type": "code",
   "execution_count": 16,
   "id": "837b246c-f8de-4c41-973e-a9e7b38a434d",
   "metadata": {},
   "outputs": [
    {
     "data": {
      "text/plain": [
       "'lola'"
      ]
     },
     "execution_count": 16,
     "metadata": {},
     "output_type": "execute_result"
    }
   ],
   "source": [
    "firstname"
   ]
  },
  {
   "cell_type": "code",
   "execution_count": null,
   "id": "72278930-6f6a-4e17-b352-ae2ab1f31156",
   "metadata": {},
   "outputs": [],
   "source": [
    "# Multiple variable assignment"
   ]
  },
  {
   "cell_type": "code",
   "execution_count": 18,
   "id": "f56814b4-9f5a-4803-9fd8-e78c954d102f",
   "metadata": {},
   "outputs": [],
   "source": [
    "num1 = num2 = num3 = 100"
   ]
  },
  {
   "cell_type": "code",
   "execution_count": 19,
   "id": "99ca3fe9-5ad7-41ce-93f4-5c57c1ba6ade",
   "metadata": {},
   "outputs": [
    {
     "data": {
      "text/plain": [
       "100"
      ]
     },
     "execution_count": 19,
     "metadata": {},
     "output_type": "execute_result"
    }
   ],
   "source": [
    "num2"
   ]
  },
  {
   "cell_type": "code",
   "execution_count": 20,
   "id": "30a92fc0-86f7-455e-9b9a-20ba6efeedcd",
   "metadata": {},
   "outputs": [],
   "source": [
    "x,y,z = 100, 200, 45"
   ]
  },
  {
   "cell_type": "code",
   "execution_count": 21,
   "id": "2bd07515-d2ec-4e65-9533-d467f414545e",
   "metadata": {},
   "outputs": [
    {
     "data": {
      "text/plain": [
       "100"
      ]
     },
     "execution_count": 21,
     "metadata": {},
     "output_type": "execute_result"
    }
   ],
   "source": [
    "x"
   ]
  },
  {
   "cell_type": "code",
   "execution_count": 22,
   "id": "9fc3d0ce-b4ae-4d75-ac12-430bf7eadd17",
   "metadata": {},
   "outputs": [
    {
     "data": {
      "text/plain": [
       "200"
      ]
     },
     "execution_count": 22,
     "metadata": {},
     "output_type": "execute_result"
    }
   ],
   "source": [
    "y"
   ]
  },
  {
   "cell_type": "code",
   "execution_count": 23,
   "id": "bce000cf-abf0-4f8f-9d75-e49fa16a67db",
   "metadata": {},
   "outputs": [
    {
     "data": {
      "text/plain": [
       "45"
      ]
     },
     "execution_count": 23,
     "metadata": {},
     "output_type": "execute_result"
    }
   ],
   "source": [
    "z"
   ]
  },
  {
   "cell_type": "code",
   "execution_count": 24,
   "id": "4183f635-9b66-4563-bd47-5517a89c458f",
   "metadata": {},
   "outputs": [
    {
     "name": "stdout",
     "output_type": "stream",
     "text": [
      "Hello Morenikeji!\n"
     ]
    }
   ],
   "source": [
    "print('Hello Morenikeji!')"
   ]
  },
  {
   "cell_type": "code",
   "execution_count": 25,
   "id": "c4e42333-b2cb-47c4-bb76-c430dca9c10e",
   "metadata": {},
   "outputs": [
    {
     "name": "stdout",
     "output_type": "stream",
     "text": [
      "This is so cool!\n"
     ]
    }
   ],
   "source": [
    "print('This is so cool!')"
   ]
  },
  {
   "cell_type": "code",
   "execution_count": 26,
   "id": "af3e3227-22d6-477d-b44b-3903b4da4708",
   "metadata": {},
   "outputs": [
    {
     "name": "stdout",
     "output_type": "stream",
     "text": [
      "I'm Morenikeji\n"
     ]
    }
   ],
   "source": [
    "print(\"I'm Morenikeji\")"
   ]
  },
  {
   "cell_type": "code",
   "execution_count": 27,
   "id": "8dad4675-eef9-4f57-bcb1-597cc59ced39",
   "metadata": {},
   "outputs": [
    {
     "name": "stdout",
     "output_type": "stream",
     "text": [
      "Iya Ibeji, shey e wa dada?\n"
     ]
    }
   ],
   "source": [
    "print(\"Iya Ibeji, shey e wa dada?\")"
   ]
  },
  {
   "cell_type": "code",
   "execution_count": 30,
   "id": "ebb9d3b1-30d1-4849-a990-9db9833c8d10",
   "metadata": {},
   "outputs": [],
   "source": [
    "# Print Numbers"
   ]
  },
  {
   "cell_type": "raw",
   "id": "f2879cf3-44ef-4733-ab59-51d56d10c8af",
   "metadata": {},
   "source": [
    "print('3.5')"
   ]
  },
  {
   "cell_type": "code",
   "execution_count": 31,
   "id": "6a404e71-061a-404c-a139-dca7297a2a8c",
   "metadata": {},
   "outputs": [
    {
     "data": {
      "text/plain": [
       "<function print(*args, sep=' ', end='\\n', file=None, flush=False)>"
      ]
     },
     "execution_count": 31,
     "metadata": {},
     "output_type": "execute_result"
    }
   ],
   "source": [
    "print"
   ]
  },
  {
   "cell_type": "code",
   "execution_count": 32,
   "id": "9246d318-dcfa-4ef3-baa9-39097167e43a",
   "metadata": {},
   "outputs": [],
   "source": [
    "name = \"Isaac\"\n",
    "age = 35"
   ]
  },
  {
   "cell_type": "code",
   "execution_count": 33,
   "id": "501268a1-9219-4be3-a573-0e9e273bf33e",
   "metadata": {},
   "outputs": [
    {
     "name": "stdout",
     "output_type": "stream",
     "text": [
      "Isaac\n"
     ]
    }
   ],
   "source": [
    "print(name)"
   ]
  },
  {
   "cell_type": "code",
   "execution_count": 34,
   "id": "1c1d36fa-5722-4f30-a11b-01c6a479d166",
   "metadata": {},
   "outputs": [
    {
     "name": "stdout",
     "output_type": "stream",
     "text": [
      "35\n"
     ]
    }
   ],
   "source": [
    "print(age)"
   ]
  },
  {
   "cell_type": "code",
   "execution_count": 35,
   "id": "01a6e41b-c98a-4438-b46a-2e9cd7f031a4",
   "metadata": {},
   "outputs": [],
   "source": [
    "my_class = 'python class'"
   ]
  },
  {
   "cell_type": "code",
   "execution_count": 36,
   "id": "7b58240a-deec-44b2-a2fd-5e4607f650e4",
   "metadata": {},
   "outputs": [
    {
     "name": "stdout",
     "output_type": "stream",
     "text": [
      "python class\n"
     ]
    }
   ],
   "source": [
    "print(my_class)"
   ]
  },
  {
   "cell_type": "code",
   "execution_count": 37,
   "id": "923dae7d-2505-4f7b-a353-6065bcf0ec4a",
   "metadata": {},
   "outputs": [
    {
     "name": "stdout",
     "output_type": "stream",
     "text": [
      "This is my first, my_class\n"
     ]
    }
   ],
   "source": [
    "print(\"This is my first, my_class\")"
   ]
  },
  {
   "cell_type": "code",
   "execution_count": 38,
   "id": "b0c248a5-9db2-4988-8855-348fc6e56a34",
   "metadata": {},
   "outputs": [
    {
     "name": "stdout",
     "output_type": "stream",
     "text": [
      "Isaac 35\n"
     ]
    }
   ],
   "source": [
    "print(name,age)"
   ]
  },
  {
   "cell_type": "code",
   "execution_count": 39,
   "id": "3d3f5281-f054-4469-9662-20b164e4675d",
   "metadata": {},
   "outputs": [
    {
     "data": {
      "text/plain": [
       "'python class'"
      ]
     },
     "execution_count": 39,
     "metadata": {},
     "output_type": "execute_result"
    }
   ],
   "source": [
    "my_class"
   ]
  },
  {
   "cell_type": "code",
   "execution_count": 40,
   "id": "9b672d85-a618-4718-b1c1-bc513cda99d7",
   "metadata": {},
   "outputs": [
    {
     "name": "stdout",
     "output_type": "stream",
     "text": [
      "Isaac-35\n"
     ]
    }
   ],
   "source": [
    "print(name,age, sep ='-')"
   ]
  },
  {
   "cell_type": "code",
   "execution_count": 41,
   "id": "8d688e98-9ad2-4398-8079-97a0c06bd85d",
   "metadata": {},
   "outputs": [
    {
     "name": "stdout",
     "output_type": "stream",
     "text": [
      "Isaac 35\n",
      "python class\n"
     ]
    }
   ],
   "source": [
    "print(name,age,end='\\n')\n",
    "print(my_class)"
   ]
  },
  {
   "cell_type": "code",
   "execution_count": null,
   "id": "c387ce5e-a30b-479b-bd1a-10c46c96b0d7",
   "metadata": {},
   "outputs": [],
   "source": [
    "# CONCATENATION"
   ]
  },
  {
   "cell_type": "code",
   "execution_count": 42,
   "id": "34d2b818-b055-4eff-a861-06026521a9e6",
   "metadata": {},
   "outputs": [
    {
     "name": "stdout",
     "output_type": "stream",
     "text": [
      "Hello Morenikeji Euba\n"
     ]
    }
   ],
   "source": [
    "first_name = 'Morenikeji'\n",
    "last_name = 'Euba'\n",
    "\n",
    "print(\"Hello\", first_name + \" \" + last_name)"
   ]
  },
  {
   "cell_type": "code",
   "execution_count": 43,
   "id": "648d2113-a070-47da-aa83-46ba91130431",
   "metadata": {},
   "outputs": [],
   "source": [
    "age = 26"
   ]
  },
  {
   "cell_type": "code",
   "execution_count": 44,
   "id": "191ae07d-6fa8-471f-bbab-aa79b62c380f",
   "metadata": {},
   "outputs": [
    {
     "data": {
      "text/plain": [
       "26"
      ]
     },
     "execution_count": 44,
     "metadata": {},
     "output_type": "execute_result"
    }
   ],
   "source": [
    "age"
   ]
  },
  {
   "cell_type": "code",
   "execution_count": 45,
   "id": "cec48b13-6ece-408d-8150-347b939841b3",
   "metadata": {},
   "outputs": [
    {
     "data": {
      "text/plain": [
       "28"
      ]
     },
     "execution_count": 45,
     "metadata": {},
     "output_type": "execute_result"
    }
   ],
   "source": [
    "age + 2"
   ]
  },
  {
   "cell_type": "code",
   "execution_count": 46,
   "id": "43f548b2-02d4-4856-b6f1-87f1cec2b447",
   "metadata": {},
   "outputs": [
    {
     "name": "stdout",
     "output_type": "stream",
     "text": [
      "I am 26years old\n"
     ]
    }
   ],
   "source": [
    "print('I am', str(age) + 'years old')"
   ]
  },
  {
   "cell_type": "code",
   "execution_count": 48,
   "id": "89a6b200-e53e-458e-bf8e-9b9e9461f462",
   "metadata": {},
   "outputs": [
    {
     "name": "stdout",
     "output_type": "stream",
     "text": [
      "In my first python class, I Morenikeji said I will get it!\n"
     ]
    }
   ],
   "source": [
    "name = 'Morenikeji'\n",
    "sentence = 'I will get it!'\n",
    "\n",
    "print(\"In my first python class, I {} said {}\".format(name,sentence))"
   ]
  },
  {
   "cell_type": "code",
   "execution_count": 49,
   "id": "90d03e5e-935a-4156-a55c-02166923ecbb",
   "metadata": {},
   "outputs": [
    {
     "name": "stdout",
     "output_type": "stream",
     "text": [
      "In my first python class, I Morenikeji said I will get it!\n"
     ]
    }
   ],
   "source": [
    "print(f'In my first python class, I {name} said {sentence}')"
   ]
  },
  {
   "cell_type": "code",
   "execution_count": 50,
   "id": "6f2eda4f-11ff-4249-a063-58a6a8c97c72",
   "metadata": {},
   "outputs": [
    {
     "name": "stdout",
     "output_type": "stream",
     "text": [
      "In my first python class, I Morenikeji said I will get it!\n"
     ]
    }
   ],
   "source": [
    "print(\"In my first python class, I %s said %s\" %(name,sentence))"
   ]
  },
  {
   "cell_type": "code",
   "execution_count": 51,
   "id": "d184f50d-f018-4b5a-acde-eb73265d91a7",
   "metadata": {},
   "outputs": [
    {
     "name": "stdout",
     "output_type": "stream",
     "text": [
      "Hello \n",
      " world\n"
     ]
    }
   ],
   "source": [
    "print('Hello \\n world')"
   ]
  },
  {
   "cell_type": "code",
   "execution_count": 52,
   "id": "a563e10f-baa3-4aae-af18-35ce3c7b97ac",
   "metadata": {},
   "outputs": [
    {
     "name": "stdout",
     "output_type": "stream",
     "text": [
      "item \t price\n",
      "apple \t $2\n",
      "banana \t $5\n"
     ]
    }
   ],
   "source": [
    "print('item \\t price')\n",
    "print('apple \\t $2')\n",
    "print('banana \\t $5') "
   ]
  },
  {
   "cell_type": "code",
   "execution_count": 53,
   "id": "8961fa07-dcc3-470a-8b63-b6b466453f56",
   "metadata": {},
   "outputs": [
    {
     "name": "stdout",
     "output_type": "stream",
     "text": [
      "I'm a boy\n"
     ]
    }
   ],
   "source": [
    "print('I\\'m a boy')"
   ]
  },
  {
   "cell_type": "code",
   "execution_count": 54,
   "id": "cf2c817b-9e41-4600-af48-2c6f86b9d2f0",
   "metadata": {},
   "outputs": [
    {
     "name": "stdout",
     "output_type": "stream",
     "text": [
      "C:\\Dell\\user\\document\n"
     ]
    }
   ],
   "source": [
    "print('C:\\\\Dell\\\\user\\\\document')"
   ]
  },
  {
   "cell_type": "code",
   "execution_count": 55,
   "id": "837b9919-746e-4a1b-9943-23a490e47554",
   "metadata": {},
   "outputs": [
    {
     "name": "stdout",
     "output_type": "stream",
     "text": [
      "🦘\n"
     ]
    }
   ],
   "source": [
    "print('\\U0001F998')"
   ]
  },
  {
   "cell_type": "code",
   "execution_count": 56,
   "id": "a019cf59-fd06-4e68-b9b5-a1edbb215381",
   "metadata": {},
   "outputs": [
    {
     "name": "stdin",
     "output_type": "stream",
     "text": [
      "Enter your best color Blue\n"
     ]
    },
    {
     "name": "stdout",
     "output_type": "stream",
     "text": [
      "My best color is Blue\n"
     ]
    }
   ],
   "source": [
    "user_input = input ('Enter your best color')\n",
    "\n",
    "print(f'My best color is {user_input}')"
   ]
  },
  {
   "cell_type": "code",
   "execution_count": 57,
   "id": "abf6cfc6-d494-44e2-95e8-b6d521d236be",
   "metadata": {},
   "outputs": [
    {
     "name": "stdout",
     "output_type": "stream",
     "text": [
      "😲\n"
     ]
    }
   ],
   "source": [
    "print('\\U0001F632')"
   ]
  },
  {
   "cell_type": "code",
   "execution_count": 59,
   "id": "fff9b001-4a34-4e7f-be03-8e088eb6f54f",
   "metadata": {},
   "outputs": [
    {
     "name": "stdout",
     "output_type": "stream",
     "text": [
      "I love you Morenikeji 😍\n"
     ]
    }
   ],
   "source": [
    "print ('I love you Morenikeji', '\\U0001F60D')"
   ]
  },
  {
   "cell_type": "code",
   "execution_count": 60,
   "id": "308e0758-9c52-46a1-9f67-f9f34f936cf5",
   "metadata": {},
   "outputs": [
    {
     "name": "stdin",
     "output_type": "stream",
     "text": [
      "What is your name? Euba Morenikeji Ibilola\n"
     ]
    },
    {
     "name": "stdout",
     "output_type": "stream",
     "text": [
      "My name is Euba Morenikeji Ibilola\n"
     ]
    }
   ],
   "source": [
    "love = input('What is your name?')\n",
    "print('My name is', love)"
   ]
  },
  {
   "cell_type": "code",
   "execution_count": 61,
   "id": "eb7c2d0d-9d38-46ab-b1bc-25c610ae847d",
   "metadata": {},
   "outputs": [
    {
     "name": "stdout",
     "output_type": "stream",
     "text": [
      "Welcome to Iya Ibeji and Mr Ade's world!\n",
      "It's not a mistake you are here!\n",
      "We appreciate your presence, 😍\n",
      "Enjoy our love story 😍\n"
     ]
    }
   ],
   "source": [
    "print(\"Welcome to Iya Ibeji and Mr Ade's world!\")\n",
    "print(\"It's not a mistake you are here!\")\n",
    "print(\"We appreciate your presence, \\U0001F60D\")\n",
    "print(\"Enjoy our love story \\U0001F60D\")"
   ]
  },
  {
   "cell_type": "code",
   "execution_count": 62,
   "id": "6b0d3f59-6aaf-496e-8f0d-30fb2fae4d7b",
   "metadata": {},
   "outputs": [
    {
     "name": "stdout",
     "output_type": "stream",
     "text": [
      "102\n",
      "1.9142857142857144\n"
     ]
    }
   ],
   "source": [
    "a = 67\n",
    "b = 35\n",
    "\n",
    "print ( a + b)\n",
    "print ( a / b)"
   ]
  },
  {
   "cell_type": "code",
   "execution_count": 69,
   "id": "64167f7b-4b73-4c8c-aac9-e0c813386a75",
   "metadata": {},
   "outputs": [
    {
     "name": "stdout",
     "output_type": "stream",
     "text": [
      "Welcome to candy world!\n"
     ]
    },
    {
     "name": "stdin",
     "output_type": "stream",
     "text": [
      "What is your name? Lola\n",
      "What is your age? 26\n"
     ]
    },
    {
     "name": "stdout",
     "output_type": "stream",
     "text": [
      " My name is Lola, and I am 26 years old\n"
     ]
    }
   ],
   "source": [
    "print('Welcome to candy world!')\n",
    "name = (input (\"What is your name?\"))\n",
    "age = (input (\"What is your age?\"))\n",
    "\n",
    "print(f' My name is {name}, and I am {age} years old')"
   ]
  },
  {
   "cell_type": "code",
   "execution_count": 70,
   "id": "70184377-7482-4f42-99ca-ce1c8efc0e44",
   "metadata": {},
   "outputs": [
    {
     "name": "stdout",
     "output_type": "stream",
     "text": [
      "Welcome to the candy shop!\n"
     ]
    },
    {
     "name": "stdin",
     "output_type": "stream",
     "text": [
      "What is your name? Lola\n",
      "How old are you? 26\n"
     ]
    },
    {
     "name": "stdout",
     "output_type": "stream",
     "text": [
      "26\n"
     ]
    }
   ],
   "source": [
    "print('Welcome to the candy shop!')\n",
    "name = (input ('What is your name?'))\n",
    "age = print(str(input ('How old are you?')))"
   ]
  },
  {
   "cell_type": "code",
   "execution_count": 71,
   "id": "ed80c051-fcae-4c83-842f-1c65eadab591",
   "metadata": {},
   "outputs": [
    {
     "data": {
      "text/plain": [
       "complex"
      ]
     },
     "execution_count": 71,
     "metadata": {},
     "output_type": "execute_result"
    }
   ],
   "source": [
    "type(2 + 3j)"
   ]
  },
  {
   "cell_type": "code",
   "execution_count": 72,
   "id": "cd35ebb5-1b2c-4740-83fd-906f7f3b903c",
   "metadata": {},
   "outputs": [
    {
     "data": {
      "text/plain": [
       "2"
      ]
     },
     "execution_count": 72,
     "metadata": {},
     "output_type": "execute_result"
    }
   ],
   "source": [
    "10//4"
   ]
  },
  {
   "cell_type": "code",
   "execution_count": 73,
   "id": "5d0746e0-3ca8-407a-95e6-0853163a3111",
   "metadata": {},
   "outputs": [
    {
     "name": "stdout",
     "output_type": "stream",
     "text": [
      "48\n",
      "-44\n",
      "0\n",
      "4477456\n",
      "1\n"
     ]
    }
   ],
   "source": [
    "a = 2\n",
    "b = 46\n",
    "\n",
    "print (a + b)\n",
    "print ( a - b)\n",
    "print ( a // b)\n",
    "print ( b ** 4)\n",
    "print ( b % 5)"
   ]
  },
  {
   "cell_type": "code",
   "execution_count": 74,
   "id": "dfe94f9f-b7ef-487d-bfcb-c3e50ccce968",
   "metadata": {},
   "outputs": [
    {
     "data": {
      "text/plain": [
       "1.4"
      ]
     },
     "execution_count": 74,
     "metadata": {},
     "output_type": "execute_result"
    }
   ],
   "source": [
    "abs(1.4)"
   ]
  },
  {
   "cell_type": "code",
   "execution_count": 75,
   "id": "4206ed4f-4688-444f-8b38-8b8b59d094fc",
   "metadata": {},
   "outputs": [
    {
     "data": {
      "text/plain": [
       "5.333333333333333"
      ]
     },
     "execution_count": 75,
     "metadata": {},
     "output_type": "execute_result"
    }
   ],
   "source": [
    "ab = 2 ** 4\n",
    "b = 10 // 4\n",
    "c = 5 % 2\n",
    "\n",
    "ab / 3"
   ]
  },
  {
   "cell_type": "code",
   "execution_count": 76,
   "id": "4e6ca6f8-ce99-4561-835d-ab2792c08766",
   "metadata": {},
   "outputs": [
    {
     "data": {
      "text/plain": [
       "29"
      ]
     },
     "execution_count": 76,
     "metadata": {},
     "output_type": "execute_result"
    }
   ],
   "source": [
    "abs ( -29)"
   ]
  },
  {
   "cell_type": "code",
   "execution_count": 77,
   "id": "ea3e6bfe-3ba2-40de-b1dd-19e18d58e50d",
   "metadata": {},
   "outputs": [
    {
     "data": {
      "text/plain": [
       "3.85"
      ]
     },
     "execution_count": 77,
     "metadata": {},
     "output_type": "execute_result"
    }
   ],
   "source": [
    "round (3.846043, 2)"
   ]
  },
  {
   "cell_type": "code",
   "execution_count": 78,
   "id": "ae3edf9e-844c-4766-b58a-f854a16aeb2a",
   "metadata": {},
   "outputs": [
    {
     "data": {
      "text/plain": [
       "-19"
      ]
     },
     "execution_count": 78,
     "metadata": {},
     "output_type": "execute_result"
    }
   ],
   "source": [
    "min (-1, -2, -19, 9)"
   ]
  },
  {
   "cell_type": "code",
   "execution_count": 79,
   "id": "2b7279ba-ba94-4035-a7bd-a1ff5784ceb1",
   "metadata": {},
   "outputs": [
    {
     "data": {
      "text/plain": [
       "0"
      ]
     },
     "execution_count": 79,
     "metadata": {},
     "output_type": "execute_result"
    }
   ],
   "source": [
    "max ( 0, -1, -2, -19)"
   ]
  },
  {
   "cell_type": "markdown",
   "id": "2246d08a-f8b7-4828-8f3a-a36d16e563d1",
   "metadata": {},
   "source": [
    "sentence = ''' Today is thursday , and I'm happy jus because the \n",
    "weekedn is almost here\n",
    "2 days to party and rest '''"
   ]
  },
  {
   "cell_type": "code",
   "execution_count": 84,
   "id": "8be74122-4910-403c-9a1b-1c4bb3fc16dd",
   "metadata": {},
   "outputs": [],
   "source": [
    "sentence = ''' Today is thursday , and I'm happy just because the weekend is almost here, 2 days to party and rest '''"
   ]
  },
  {
   "cell_type": "code",
   "execution_count": 85,
   "id": "ef716495-6a8e-4c11-9200-5e49cdcca1cf",
   "metadata": {},
   "outputs": [
    {
     "name": "stdout",
     "output_type": "stream",
     "text": [
      " Today is thursday , and I'm happy just because the weekend is almost here, 2 days to party and rest \n"
     ]
    }
   ],
   "source": [
    "print (sentence)"
   ]
  },
  {
   "cell_type": "code",
   "execution_count": 86,
   "id": "a19e0f26-1d17-4836-b2bd-20621f9145dd",
   "metadata": {},
   "outputs": [
    {
     "data": {
      "text/plain": [
       "str"
      ]
     },
     "execution_count": 86,
     "metadata": {},
     "output_type": "execute_result"
    }
   ],
   "source": [
    "type (sentence)"
   ]
  },
  {
   "cell_type": "code",
   "execution_count": 89,
   "id": "13b28d34-e35b-47a7-b15f-1447829398a3",
   "metadata": {},
   "outputs": [],
   "source": [
    "# Indexing\n",
    "text = 'Morenikeji'"
   ]
  },
  {
   "cell_type": "code",
   "execution_count": 90,
   "id": "ecccef9e-c234-4213-bdcd-02dfbc1649c0",
   "metadata": {},
   "outputs": [
    {
     "data": {
      "text/plain": [
       "'i'"
      ]
     },
     "execution_count": 90,
     "metadata": {},
     "output_type": "execute_result"
    }
   ],
   "source": [
    "\n",
    "text [-5]"
   ]
  },
  {
   "cell_type": "code",
   "execution_count": 91,
   "id": "e1dafaba-7f35-4b13-9b70-9a9dfff7616a",
   "metadata": {},
   "outputs": [
    {
     "data": {
      "text/plain": [
       "'o'"
      ]
     },
     "execution_count": 91,
     "metadata": {},
     "output_type": "execute_result"
    }
   ],
   "source": [
    "text [-9]\n"
   ]
  },
  {
   "cell_type": "code",
   "execution_count": 92,
   "id": "2e3926ae-5d1d-4917-95f8-1a6403c32a37",
   "metadata": {},
   "outputs": [
    {
     "data": {
      "text/plain": [
       "'i'"
      ]
     },
     "execution_count": 92,
     "metadata": {},
     "output_type": "execute_result"
    }
   ],
   "source": [
    "text [5]"
   ]
  },
  {
   "cell_type": "code",
   "execution_count": 93,
   "id": "e3fc731b-e80b-45ba-8117-176713d296d4",
   "metadata": {},
   "outputs": [
    {
     "data": {
      "text/plain": [
       "'M'"
      ]
     },
     "execution_count": 93,
     "metadata": {},
     "output_type": "execute_result"
    }
   ],
   "source": [
    "text [0]"
   ]
  },
  {
   "cell_type": "code",
   "execution_count": 100,
   "id": "abdfb279-e3e1-437d-a737-80f339daf3fd",
   "metadata": {},
   "outputs": [],
   "source": [
    "text = '    HeLlO dear, I love youR eYe becAusE     it is KeeN to  InfoRmaTioN    '"
   ]
  },
  {
   "cell_type": "code",
   "execution_count": 101,
   "id": "6389494d-6ba9-43ce-82b1-5348f9fc534b",
   "metadata": {},
   "outputs": [
    {
     "data": {
      "text/plain": [
       "'    HeLlO dear, I love youR eYe becAusE     it is KeeN to  InfoRmaTioN    '"
      ]
     },
     "execution_count": 101,
     "metadata": {},
     "output_type": "execute_result"
    }
   ],
   "source": [
    "text"
   ]
  },
  {
   "cell_type": "code",
   "execution_count": 102,
   "id": "cd46bd88-bb12-4f98-bd56-fec9e2bcb7c2",
   "metadata": {},
   "outputs": [
    {
     "data": {
      "text/plain": [
       "'    hello dear, i love your eye because     it is keen to  information    '"
      ]
     },
     "execution_count": 102,
     "metadata": {},
     "output_type": "execute_result"
    }
   ],
   "source": [
    "text.lower()"
   ]
  },
  {
   "cell_type": "code",
   "execution_count": 103,
   "id": "c9203c85-d82d-40a7-ba24-91797014122c",
   "metadata": {},
   "outputs": [
    {
     "data": {
      "text/plain": [
       "'    HELLO DEAR, I LOVE YOUR EYE BECAUSE     IT IS KEEN TO  INFORMATION    '"
      ]
     },
     "execution_count": 103,
     "metadata": {},
     "output_type": "execute_result"
    }
   ],
   "source": [
    "text.upper()"
   ]
  },
  {
   "cell_type": "code",
   "execution_count": 104,
   "id": "a6e822bf-86ed-4ed6-95dd-52bb5ba91088",
   "metadata": {},
   "outputs": [
    {
     "data": {
      "text/plain": [
       "'HeLlO dear, I love youR eYe becAusE     it is KeeN to  InfoRmaTioN'"
      ]
     },
     "execution_count": 104,
     "metadata": {},
     "output_type": "execute_result"
    }
   ],
   "source": [
    "text.strip()"
   ]
  },
  {
   "cell_type": "code",
   "execution_count": 106,
   "id": "03ca047a-a684-425c-a266-44df1c2d0795",
   "metadata": {},
   "outputs": [],
   "source": [
    "word = 'folarin'"
   ]
  },
  {
   "cell_type": "code",
   "execution_count": 107,
   "id": "d226aade-cdaf-40e5-99e8-f8f904d68de5",
   "metadata": {},
   "outputs": [
    {
     "data": {
      "text/plain": [
       "'folarin'"
      ]
     },
     "execution_count": 107,
     "metadata": {},
     "output_type": "execute_result"
    }
   ],
   "source": [
    "word"
   ]
  },
  {
   "cell_type": "code",
   "execution_count": 108,
   "id": "fe9312dd-14ab-4642-8ddd-2ac56d321235",
   "metadata": {},
   "outputs": [
    {
     "data": {
      "text/plain": [
       "'Folarin'"
      ]
     },
     "execution_count": 108,
     "metadata": {},
     "output_type": "execute_result"
    }
   ],
   "source": [
    "word.capitalize()"
   ]
  },
  {
   "cell_type": "code",
   "execution_count": 109,
   "id": "47f61406-5d96-4383-81a1-a6a81ce06c98",
   "metadata": {},
   "outputs": [
    {
     "data": {
      "text/plain": [
       "'Folarin'"
      ]
     },
     "execution_count": 109,
     "metadata": {},
     "output_type": "execute_result"
    }
   ],
   "source": [
    "clean= text.strip()\n",
    "clean.capitalize()"
   ]
  },
  {
   "cell_type": "code",
   "execution_count": 110,
   "id": "0962ca16-f525-46f3-9626-c5d7c3076e98",
   "metadata": {},
   "outputs": [],
   "source": [
    "text = 'HeLlO dear, I love youR eYe becAusE     it is KeeN to  InfoRmaTioN'"
   ]
  },
  {
   "cell_type": "code",
   "execution_count": 111,
   "id": "e513636e-ff4e-4b5f-b687-b558a37a6a45",
   "metadata": {},
   "outputs": [
    {
     "data": {
      "text/plain": [
       "'HeLlO dear, I love youR eYe becAusE     it is KeeN to  InfoRmaTioN'"
      ]
     },
     "execution_count": 111,
     "metadata": {},
     "output_type": "execute_result"
    }
   ],
   "source": [
    "text"
   ]
  },
  {
   "cell_type": "code",
   "execution_count": 112,
   "id": "1b9038db-8302-4175-ba89-2f4bed5686d2",
   "metadata": {},
   "outputs": [
    {
     "data": {
      "text/plain": [
       "'HELLO DEAR, I LOVE YOUR EYE BECAUSE     IT IS KEEN TO  INFORMATION'"
      ]
     },
     "execution_count": 112,
     "metadata": {},
     "output_type": "execute_result"
    }
   ],
   "source": [
    "clean = text.strip()\n",
    "clean.upper()"
   ]
  },
  {
   "cell_type": "code",
   "execution_count": 113,
   "id": "3a586001-3eef-43e4-b3a4-fd6bdaad20a9",
   "metadata": {},
   "outputs": [
    {
     "data": {
      "text/plain": [
       "'Morenikeji Euba'"
      ]
     },
     "execution_count": 113,
     "metadata": {},
     "output_type": "execute_result"
    }
   ],
   "source": [
    "name = \"Morenikeji\"\n",
    "surname = \"Euba\"\n",
    "\n",
    "name + ' ' + surname"
   ]
  },
  {
   "cell_type": "code",
   "execution_count": 114,
   "id": "c6479826-8f47-4846-aa45-012e550af01f",
   "metadata": {},
   "outputs": [
    {
     "name": "stdout",
     "output_type": "stream",
     "text": [
      "Morenikeji Morenikeji Morenikeji \n"
     ]
    }
   ],
   "source": [
    "name = 'Morenikeji'\n",
    "name * 3\n",
    "print((name + \" \")*3)"
   ]
  },
  {
   "cell_type": "code",
   "execution_count": 115,
   "id": "291bf65b-8aa1-4693-956a-bafcfeebd753",
   "metadata": {},
   "outputs": [
    {
     "data": {
      "text/plain": [
       "'I over love God'"
      ]
     },
     "execution_count": 115,
     "metadata": {},
     "output_type": "execute_result"
    }
   ],
   "source": [
    "text = \"I love God\"\n",
    "new_text = text.replace('love', 'over love')\n",
    "new_text"
   ]
  },
  {
   "cell_type": "code",
   "execution_count": 116,
   "id": "f4dfa1c0-f007-44fa-90fa-6b1e801fab0f",
   "metadata": {},
   "outputs": [
    {
     "data": {
      "text/plain": [
       "['I', 'love', 'God']"
      ]
     },
     "execution_count": 116,
     "metadata": {},
     "output_type": "execute_result"
    }
   ],
   "source": [
    "text = 'I love God'\n",
    "text.split()"
   ]
  },
  {
   "cell_type": "code",
   "execution_count": 117,
   "id": "e88e706e-a83d-4b70-8196-f2b31cf8ed1c",
   "metadata": {},
   "outputs": [],
   "source": [
    "new_text = \"_\".join(text)"
   ]
  },
  {
   "cell_type": "code",
   "execution_count": 118,
   "id": "8501f274-e4cb-480b-a88e-e1a38faa789e",
   "metadata": {},
   "outputs": [
    {
     "data": {
      "text/plain": [
       "'I_ _l_o_v_e_ _G_o_d'"
      ]
     },
     "execution_count": 118,
     "metadata": {},
     "output_type": "execute_result"
    }
   ],
   "source": [
    "new_text"
   ]
  },
  {
   "cell_type": "code",
   "execution_count": 119,
   "id": "d6390f48-2323-44b6-8190-dc30a047f797",
   "metadata": {},
   "outputs": [
    {
     "data": {
      "text/plain": [
       "7"
      ]
     },
     "execution_count": 119,
     "metadata": {},
     "output_type": "execute_result"
    }
   ],
   "source": [
    "text = 'python programming is fun'\n",
    "text.find('programming')\n"
   ]
  },
  {
   "cell_type": "code",
   "execution_count": 120,
   "id": "1f6e6b65-e88a-48ab-816a-bb4c88aed7ec",
   "metadata": {},
   "outputs": [
    {
     "data": {
      "text/plain": [
       "2"
      ]
     },
     "execution_count": 120,
     "metadata": {},
     "output_type": "execute_result"
    }
   ],
   "source": [
    "text = 'python programming is fun'\n",
    "text.count('o')"
   ]
  },
  {
   "cell_type": "code",
   "execution_count": 123,
   "id": "d8a8c897-38f7-4f91-b58b-293562519dfa",
   "metadata": {},
   "outputs": [],
   "source": [
    "# Indexing|\n",
    "\n",
    "fruits = [\"banana\", \"apple\", \"cherry\", \"date\", \"elderberry\", \"fig\"]"
   ]
  },
  {
   "cell_type": "code",
   "execution_count": 124,
   "id": "33fd5f9c-7c8d-42b7-a032-b1779902447f",
   "metadata": {},
   "outputs": [
    {
     "data": {
      "text/plain": [
       "'banana'"
      ]
     },
     "execution_count": 124,
     "metadata": {},
     "output_type": "execute_result"
    }
   ],
   "source": [
    "fruits [0]"
   ]
  },
  {
   "cell_type": "code",
   "execution_count": 125,
   "id": "0e2c0038-9332-44df-ab3c-80c37585aa9a",
   "metadata": {},
   "outputs": [
    {
     "data": {
      "text/plain": [
       "'apple'"
      ]
     },
     "execution_count": 125,
     "metadata": {},
     "output_type": "execute_result"
    }
   ],
   "source": [
    "fruits [-5]"
   ]
  },
  {
   "cell_type": "code",
   "execution_count": 126,
   "id": "47df6a71-bf84-4252-8d7d-91fc6894f2ee",
   "metadata": {},
   "outputs": [
    {
     "data": {
      "text/plain": [
       "['banana', 'apple', 'cherry', 'date', 'elderberry']"
      ]
     },
     "execution_count": 126,
     "metadata": {},
     "output_type": "execute_result"
    }
   ],
   "source": [
    "fruits [0:5]"
   ]
  },
  {
   "cell_type": "code",
   "execution_count": 127,
   "id": "79ba831e-2df9-4431-b273-21aa22a2d2f5",
   "metadata": {},
   "outputs": [
    {
     "data": {
      "text/plain": [
       "['banana', 'apple', 'cherry', 'date', 'elderberry', 'fig']"
      ]
     },
     "execution_count": 127,
     "metadata": {},
     "output_type": "execute_result"
    }
   ],
   "source": [
    "fruits [0:6]"
   ]
  },
  {
   "cell_type": "code",
   "execution_count": 128,
   "id": "6e3449ec-e7a2-4b80-82da-eeebb3c76941",
   "metadata": {},
   "outputs": [
    {
     "data": {
      "text/plain": [
       "['apple', 'cherry', 'date', 'elderberry', 'fig']"
      ]
     },
     "execution_count": 128,
     "metadata": {},
     "output_type": "execute_result"
    }
   ],
   "source": [
    "fruits [1:]"
   ]
  },
  {
   "cell_type": "code",
   "execution_count": 129,
   "id": "a6bd4d62-29d1-46c2-96e4-ce3cfd1ea8b9",
   "metadata": {},
   "outputs": [
    {
     "data": {
      "text/plain": [
       "['banana', 'apple', 'cherry', 'date']"
      ]
     },
     "execution_count": 129,
     "metadata": {},
     "output_type": "execute_result"
    }
   ],
   "source": [
    "fruits [:4]"
   ]
  },
  {
   "cell_type": "code",
   "execution_count": 130,
   "id": "853bdb32-7873-459d-9bf2-1dcd3bbb9c7b",
   "metadata": {},
   "outputs": [
    {
     "data": {
      "text/plain": [
       "['apple', 'cherry', 'date', 'elderberry']"
      ]
     },
     "execution_count": 130,
     "metadata": {},
     "output_type": "execute_result"
    }
   ],
   "source": [
    "fruits [1:-1]"
   ]
  },
  {
   "cell_type": "code",
   "execution_count": 131,
   "id": "222cf2bf-ab96-4bda-a3d2-106094c772f1",
   "metadata": {},
   "outputs": [
    {
     "data": {
      "text/plain": [
       "['apple', 'cherry', 'date']"
      ]
     },
     "execution_count": 131,
     "metadata": {},
     "output_type": "execute_result"
    }
   ],
   "source": [
    "fruits [1: -2]"
   ]
  },
  {
   "cell_type": "code",
   "execution_count": 132,
   "id": "b1f2f4d7-eb8c-4348-8832-531950188420",
   "metadata": {},
   "outputs": [
    {
     "data": {
      "text/plain": [
       "['banana', 'cherry', 'elderberry']"
      ]
     },
     "execution_count": 132,
     "metadata": {},
     "output_type": "execute_result"
    }
   ],
   "source": [
    "fruits[::2]"
   ]
  },
  {
   "cell_type": "code",
   "execution_count": 133,
   "id": "3b0a3873-5b6d-46ba-a6bf-abf99fd30334",
   "metadata": {},
   "outputs": [
    {
     "data": {
      "text/plain": [
       "['banana', 'date']"
      ]
     },
     "execution_count": 133,
     "metadata": {},
     "output_type": "execute_result"
    }
   ],
   "source": [
    "fruits [::3]"
   ]
  },
  {
   "cell_type": "code",
   "execution_count": 135,
   "id": "1ec084a1-3cac-4ea8-bed1-9b271a845b6a",
   "metadata": {},
   "outputs": [
    {
     "data": {
      "text/plain": [
       "['banana', 'apple', 'cherry', 'date', 'elderberry', 'fig']"
      ]
     },
     "execution_count": 135,
     "metadata": {},
     "output_type": "execute_result"
    }
   ],
   "source": [
    "# lists\n",
    "\n",
    "fruits"
   ]
  },
  {
   "cell_type": "code",
   "execution_count": 136,
   "id": "2c98a716-22b9-4565-b1b9-1e4b2e5c402d",
   "metadata": {},
   "outputs": [
    {
     "data": {
      "text/plain": [
       "['fig', 'elderberry', 'date', 'cherry', 'apple', 'banana']"
      ]
     },
     "execution_count": 136,
     "metadata": {},
     "output_type": "execute_result"
    }
   ],
   "source": [
    "fruits [::-1]"
   ]
  },
  {
   "cell_type": "code",
   "execution_count": 137,
   "id": "74aa1a75-d891-454c-87d9-4d0a46aae5e1",
   "metadata": {},
   "outputs": [
    {
     "data": {
      "text/plain": [
       "['banana', 'apple', 'cherry', 'date', 'elderberry', 'fig']"
      ]
     },
     "execution_count": 137,
     "metadata": {},
     "output_type": "execute_result"
    }
   ],
   "source": [
    "fruits = [\"banana\", \"apple\", \"cherry\", \"date\", \"elderberry\", \"fig\"]\n",
    "fruits"
   ]
  },
  {
   "cell_type": "code",
   "execution_count": 138,
   "id": "67435d15-59a6-41e4-a873-c4d53bf8ea24",
   "metadata": {},
   "outputs": [],
   "source": [
    "fruits [4] = 'mango'"
   ]
  },
  {
   "cell_type": "code",
   "execution_count": 139,
   "id": "cafc90fe-2d8a-436b-9234-5ebcd897af9d",
   "metadata": {},
   "outputs": [
    {
     "data": {
      "text/plain": [
       "['banana', 'apple', 'cherry', 'date', 'mango', 'fig']"
      ]
     },
     "execution_count": 139,
     "metadata": {},
     "output_type": "execute_result"
    }
   ],
   "source": [
    "fruits"
   ]
  },
  {
   "cell_type": "code",
   "execution_count": 140,
   "id": "b0f09257-4e6f-4915-9444-5bc87ceebd0a",
   "metadata": {},
   "outputs": [],
   "source": [
    "fruits [-1] = 'pawpaw'"
   ]
  },
  {
   "cell_type": "code",
   "execution_count": 141,
   "id": "47dfb7d0-65da-4618-bb6f-503152e55ba6",
   "metadata": {},
   "outputs": [
    {
     "data": {
      "text/plain": [
       "['banana', 'apple', 'cherry', 'date', 'mango', 'pawpaw']"
      ]
     },
     "execution_count": 141,
     "metadata": {},
     "output_type": "execute_result"
    }
   ],
   "source": [
    "fruits"
   ]
  },
  {
   "cell_type": "code",
   "execution_count": 142,
   "id": "5ba3aff1-5d12-4eb0-b688-48d26ea7302a",
   "metadata": {},
   "outputs": [],
   "source": [
    "fruits.append ('cashew')"
   ]
  },
  {
   "cell_type": "code",
   "execution_count": 143,
   "id": "e4e86a35-644a-45f3-96ae-0ebee7214820",
   "metadata": {},
   "outputs": [
    {
     "data": {
      "text/plain": [
       "['banana', 'apple', 'cherry', 'date', 'mango', 'pawpaw', 'cashew']"
      ]
     },
     "execution_count": 143,
     "metadata": {},
     "output_type": "execute_result"
    }
   ],
   "source": [
    "fruits"
   ]
  },
  {
   "cell_type": "code",
   "execution_count": 144,
   "id": "0d1440c3-9287-4af6-8d6d-bc2b0de55158",
   "metadata": {},
   "outputs": [],
   "source": [
    "fruits.insert(1,'orange')"
   ]
  },
  {
   "cell_type": "code",
   "execution_count": 145,
   "id": "0d238747-5e8b-40fc-a1c4-26f03628a6c3",
   "metadata": {},
   "outputs": [
    {
     "data": {
      "text/plain": [
       "['banana', 'orange', 'apple', 'cherry', 'date', 'mango', 'pawpaw', 'cashew']"
      ]
     },
     "execution_count": 145,
     "metadata": {},
     "output_type": "execute_result"
    }
   ],
   "source": [
    "fruits"
   ]
  },
  {
   "cell_type": "code",
   "execution_count": 146,
   "id": "223165ee-26d4-4179-bff2-26e202cf90b0",
   "metadata": {},
   "outputs": [],
   "source": [
    "fruits = ['apple', 'orange', 'banana', 'cherry', 'mango', 'elderberry', 'pawpaw', 'pear']"
   ]
  },
  {
   "cell_type": "code",
   "execution_count": 147,
   "id": "7a6d6405-79ab-4ab6-b253-fb6eadaf745b",
   "metadata": {},
   "outputs": [
    {
     "data": {
      "text/plain": [
       "['apple',\n",
       " 'orange',\n",
       " 'banana',\n",
       " 'cherry',\n",
       " 'mango',\n",
       " 'elderberry',\n",
       " 'pawpaw',\n",
       " 'pear']"
      ]
     },
     "execution_count": 147,
     "metadata": {},
     "output_type": "execute_result"
    }
   ],
   "source": [
    "fruits"
   ]
  },
  {
   "cell_type": "code",
   "execution_count": 148,
   "id": "e9052cf6-ae3b-42d9-901e-d327c70eb67f",
   "metadata": {},
   "outputs": [],
   "source": [
    "fruits.insert(3, 'strawberry')"
   ]
  },
  {
   "cell_type": "code",
   "execution_count": 149,
   "id": "fd528022-ee30-448f-9129-007bbd4159bb",
   "metadata": {},
   "outputs": [
    {
     "data": {
      "text/plain": [
       "['apple',\n",
       " 'orange',\n",
       " 'banana',\n",
       " 'strawberry',\n",
       " 'cherry',\n",
       " 'mango',\n",
       " 'elderberry',\n",
       " 'pawpaw',\n",
       " 'pear']"
      ]
     },
     "execution_count": 149,
     "metadata": {},
     "output_type": "execute_result"
    }
   ],
   "source": [
    "fruits"
   ]
  },
  {
   "cell_type": "code",
   "execution_count": 150,
   "id": "58e45182-0b30-4d82-8fd3-880728d9d636",
   "metadata": {},
   "outputs": [],
   "source": [
    "fruits_2 = ['pineapple', 'watermelon', 'grape']"
   ]
  },
  {
   "cell_type": "code",
   "execution_count": 151,
   "id": "d614384d-5a79-4f89-bc0c-55cc2ec20d60",
   "metadata": {},
   "outputs": [],
   "source": [
    "basket = fruits + fruits_2"
   ]
  },
  {
   "cell_type": "code",
   "execution_count": 152,
   "id": "f80a1c87-8f60-4fd4-933c-3de1bc5144ef",
   "metadata": {},
   "outputs": [
    {
     "data": {
      "text/plain": [
       "['pineapple', 'watermelon', 'grape']"
      ]
     },
     "execution_count": 152,
     "metadata": {},
     "output_type": "execute_result"
    }
   ],
   "source": [
    "fruits_2"
   ]
  },
  {
   "cell_type": "code",
   "execution_count": 153,
   "id": "6686a9d1-b421-4f3b-99a2-1b136c527b56",
   "metadata": {},
   "outputs": [
    {
     "data": {
      "text/plain": [
       "['apple',\n",
       " 'orange',\n",
       " 'banana',\n",
       " 'strawberry',\n",
       " 'cherry',\n",
       " 'mango',\n",
       " 'elderberry',\n",
       " 'pawpaw',\n",
       " 'pear',\n",
       " 'pineapple',\n",
       " 'watermelon',\n",
       " 'grape']"
      ]
     },
     "execution_count": 153,
     "metadata": {},
     "output_type": "execute_result"
    }
   ],
   "source": [
    "basket"
   ]
  },
  {
   "cell_type": "code",
   "execution_count": 154,
   "id": "4faac94b-6d81-48e1-9bc9-2726c4f325e1",
   "metadata": {},
   "outputs": [],
   "source": [
    "fruits.extend(fruits_2)"
   ]
  },
  {
   "cell_type": "code",
   "execution_count": 155,
   "id": "a2074088-aff1-4d9b-93cc-2baf55db805d",
   "metadata": {},
   "outputs": [
    {
     "data": {
      "text/plain": [
       "['apple',\n",
       " 'orange',\n",
       " 'banana',\n",
       " 'strawberry',\n",
       " 'cherry',\n",
       " 'mango',\n",
       " 'elderberry',\n",
       " 'pawpaw',\n",
       " 'pear',\n",
       " 'pineapple',\n",
       " 'watermelon',\n",
       " 'grape']"
      ]
     },
     "execution_count": 155,
     "metadata": {},
     "output_type": "execute_result"
    }
   ],
   "source": [
    "fruits"
   ]
  },
  {
   "cell_type": "code",
   "execution_count": 156,
   "id": "580c5047-12a9-4e1b-bf64-b0ec941e7c0f",
   "metadata": {},
   "outputs": [],
   "source": [
    "fruits.remove('strawberry')"
   ]
  },
  {
   "cell_type": "raw",
   "id": "af1454b6-dfbc-4776-ae73-6925f50886eb",
   "metadata": {},
   "source": [
    "Fruits"
   ]
  },
  {
   "cell_type": "code",
   "execution_count": 158,
   "id": "e666ad04-b691-4f46-8be2-7186783acf76",
   "metadata": {},
   "outputs": [
    {
     "data": {
      "text/plain": [
       "['apple',\n",
       " 'orange',\n",
       " 'banana',\n",
       " 'cherry',\n",
       " 'mango',\n",
       " 'elderberry',\n",
       " 'pawpaw',\n",
       " 'pear',\n",
       " 'pineapple',\n",
       " 'watermelon',\n",
       " 'grape']"
      ]
     },
     "execution_count": 158,
     "metadata": {},
     "output_type": "execute_result"
    }
   ],
   "source": [
    "fruits"
   ]
  },
  {
   "cell_type": "code",
   "execution_count": 159,
   "id": "6dbb1d9e-6632-4905-94b6-cbefeed9eaf5",
   "metadata": {},
   "outputs": [],
   "source": [
    "fruits.remove('watermelon')"
   ]
  },
  {
   "cell_type": "code",
   "execution_count": 160,
   "id": "e5db54fc-a0e8-4ea7-91b5-65d89abbc8b0",
   "metadata": {},
   "outputs": [
    {
     "data": {
      "text/plain": [
       "['apple',\n",
       " 'orange',\n",
       " 'banana',\n",
       " 'cherry',\n",
       " 'mango',\n",
       " 'elderberry',\n",
       " 'pawpaw',\n",
       " 'pear',\n",
       " 'pineapple',\n",
       " 'grape']"
      ]
     },
     "execution_count": 160,
     "metadata": {},
     "output_type": "execute_result"
    }
   ],
   "source": [
    "fruits"
   ]
  },
  {
   "cell_type": "code",
   "execution_count": 161,
   "id": "31c19f3a-46c0-47cb-bb2f-26cdaee1ab15",
   "metadata": {},
   "outputs": [
    {
     "data": {
      "text/plain": [
       "'grape'"
      ]
     },
     "execution_count": 161,
     "metadata": {},
     "output_type": "execute_result"
    }
   ],
   "source": [
    "fruits.pop()"
   ]
  },
  {
   "cell_type": "code",
   "execution_count": 162,
   "id": "e891f5fc-519e-497e-a7f0-6d43e909348a",
   "metadata": {},
   "outputs": [
    {
     "data": {
      "text/plain": [
       "['apple',\n",
       " 'orange',\n",
       " 'banana',\n",
       " 'cherry',\n",
       " 'mango',\n",
       " 'elderberry',\n",
       " 'pawpaw',\n",
       " 'pear',\n",
       " 'pineapple']"
      ]
     },
     "execution_count": 162,
     "metadata": {},
     "output_type": "execute_result"
    }
   ],
   "source": [
    "fruits"
   ]
  },
  {
   "cell_type": "code",
   "execution_count": 163,
   "id": "d0accdea-3857-4d0a-b861-5a557eda1759",
   "metadata": {},
   "outputs": [
    {
     "data": {
      "text/plain": [
       "'cherry'"
      ]
     },
     "execution_count": 163,
     "metadata": {},
     "output_type": "execute_result"
    }
   ],
   "source": [
    "fruits.pop(3)"
   ]
  },
  {
   "cell_type": "raw",
   "id": "8ce9d898-731c-42af-8e31-0e47f2860dd3",
   "metadata": {},
   "source": [
    "fruits"
   ]
  },
  {
   "cell_type": "code",
   "execution_count": 164,
   "id": "c524b821-c0c8-4d1d-a201-b46d54ec3a3f",
   "metadata": {},
   "outputs": [
    {
     "data": {
      "text/plain": [
       "['apple',\n",
       " 'orange',\n",
       " 'banana',\n",
       " 'mango',\n",
       " 'elderberry',\n",
       " 'pawpaw',\n",
       " 'pear',\n",
       " 'pineapple']"
      ]
     },
     "execution_count": 164,
     "metadata": {},
     "output_type": "execute_result"
    }
   ],
   "source": [
    "fruits"
   ]
  },
  {
   "cell_type": "code",
   "execution_count": 165,
   "id": "4a88b805-33c6-43cc-9920-0077223e618d",
   "metadata": {},
   "outputs": [
    {
     "data": {
      "text/plain": [
       "['apple',\n",
       " 'orange',\n",
       " 'banana',\n",
       " 'strawberry',\n",
       " 'cherry',\n",
       " 'mango',\n",
       " 'elderberry',\n",
       " 'pawpaw',\n",
       " 'pear',\n",
       " 'pineapple',\n",
       " 'watermelon',\n",
       " 'grape']"
      ]
     },
     "execution_count": 165,
     "metadata": {},
     "output_type": "execute_result"
    }
   ],
   "source": [
    "basket"
   ]
  },
  {
   "cell_type": "code",
   "execution_count": 166,
   "id": "12be8601-6c07-4025-8182-d4f8f48784b6",
   "metadata": {},
   "outputs": [],
   "source": [
    "del basket [5:]"
   ]
  },
  {
   "cell_type": "code",
   "execution_count": 167,
   "id": "508e652a-e1e0-4e4a-a3a9-9662291daf95",
   "metadata": {},
   "outputs": [
    {
     "data": {
      "text/plain": [
       "['apple', 'orange', 'banana', 'strawberry', 'cherry']"
      ]
     },
     "execution_count": 167,
     "metadata": {},
     "output_type": "execute_result"
    }
   ],
   "source": [
    "basket"
   ]
  },
  {
   "cell_type": "code",
   "execution_count": 168,
   "id": "5ec83a9d-b2eb-4fc4-ac73-2b0bda9156a1",
   "metadata": {},
   "outputs": [],
   "source": [
    "language = ('Python', 'Java', 'C++', 'R')"
   ]
  },
  {
   "cell_type": "code",
   "execution_count": 169,
   "id": "0fc494a7-b45f-4bc4-90bc-385c393a5195",
   "metadata": {},
   "outputs": [
    {
     "data": {
      "text/plain": [
       "('Python', 'Java', 'C++', 'R')"
      ]
     },
     "execution_count": 169,
     "metadata": {},
     "output_type": "execute_result"
    }
   ],
   "source": [
    "language"
   ]
  },
  {
   "cell_type": "code",
   "execution_count": 170,
   "id": "5fcd7590-1303-4917-b9b1-2148f1b893f7",
   "metadata": {},
   "outputs": [
    {
     "data": {
      "text/plain": [
       "'Python'"
      ]
     },
     "execution_count": 170,
     "metadata": {},
     "output_type": "execute_result"
    }
   ],
   "source": [
    "# access\n",
    "\n",
    "language [0]"
   ]
  },
  {
   "cell_type": "code",
   "execution_count": 171,
   "id": "28aba969-6176-4217-a30a-38c5572b7bb4",
   "metadata": {},
   "outputs": [],
   "source": [
    "fruits = ['apple',\n",
    " 'orange',\n",
    " 'banana',\n",
    " 'strawberry',\n",
    " 'cherry',\n",
    " 'mango',]"
   ]
  },
  {
   "cell_type": "code",
   "execution_count": 172,
   "id": "9ce93060-2ae6-42ab-8272-a42d65373a5c",
   "metadata": {},
   "outputs": [
    {
     "data": {
      "text/plain": [
       "['apple', 'orange', 'banana', 'strawberry', 'cherry', 'mango']"
      ]
     },
     "execution_count": 172,
     "metadata": {},
     "output_type": "execute_result"
    }
   ],
   "source": [
    "fruits"
   ]
  },
  {
   "cell_type": "code",
   "execution_count": 173,
   "id": "432601a3-5a45-438a-8de9-f36854d35ad9",
   "metadata": {},
   "outputs": [],
   "source": [
    "upper_fruits = [fruits.lower () for fruits in fruits]"
   ]
  },
  {
   "cell_type": "code",
   "execution_count": 174,
   "id": "e2203df5-9348-4f6c-b840-d4ea12a0c205",
   "metadata": {},
   "outputs": [
    {
     "data": {
      "text/plain": [
       "['apple', 'orange', 'banana', 'strawberry', 'cherry', 'mango']"
      ]
     },
     "execution_count": 174,
     "metadata": {},
     "output_type": "execute_result"
    }
   ],
   "source": [
    "fruits"
   ]
  },
  {
   "cell_type": "code",
   "execution_count": 175,
   "id": "e13d3bdd-c4aa-418a-a742-d939606c4d6b",
   "metadata": {},
   "outputs": [],
   "source": [
    "fruits = ['apple', 'orange', 'cabbage', 'lettuce', 'cherry']"
   ]
  },
  {
   "cell_type": "code",
   "execution_count": 176,
   "id": "a3d4b8c6-aaf6-445d-91fe-6313bf8f1448",
   "metadata": {},
   "outputs": [
    {
     "data": {
      "text/plain": [
       "['apple', 'orange', 'cabbage', 'lettuce', 'cherry']"
      ]
     },
     "execution_count": 176,
     "metadata": {},
     "output_type": "execute_result"
    }
   ],
   "source": [
    "fruits"
   ]
  },
  {
   "cell_type": "code",
   "execution_count": 177,
   "id": "1072b9f1-2d6f-4209-b84e-5997241f2da5",
   "metadata": {},
   "outputs": [],
   "source": [
    "upper_fruits = [fruits.upper() for fruits in fruits]"
   ]
  },
  {
   "cell_type": "code",
   "execution_count": 178,
   "id": "542fc21e-4198-463f-9e15-b83c5d0500ef",
   "metadata": {},
   "outputs": [
    {
     "data": {
      "text/plain": [
       "['APPLE', 'ORANGE', 'CABBAGE', 'LETTUCE', 'CHERRY']"
      ]
     },
     "execution_count": 178,
     "metadata": {},
     "output_type": "execute_result"
    }
   ],
   "source": [
    "upper_fruits"
   ]
  },
  {
   "cell_type": "code",
   "execution_count": 179,
   "id": "2132c994-1c3a-4c2b-9bd4-ea4e11bb29ea",
   "metadata": {},
   "outputs": [],
   "source": [
    "language = ['python', 'java', 'c++', 'R']"
   ]
  },
  {
   "cell_type": "code",
   "execution_count": 180,
   "id": "3cf1d2c8-8d49-48fb-b5e9-ca42af3cb14a",
   "metadata": {},
   "outputs": [
    {
     "data": {
      "text/plain": [
       "['python', 'java', 'c++', 'R']"
      ]
     },
     "execution_count": 180,
     "metadata": {},
     "output_type": "execute_result"
    }
   ],
   "source": [
    "language"
   ]
  },
  {
   "cell_type": "code",
   "execution_count": 181,
   "id": "ad6558e5-604c-41e7-ace6-5b67143b8a3c",
   "metadata": {},
   "outputs": [],
   "source": [
    "x = list(language)"
   ]
  },
  {
   "cell_type": "code",
   "execution_count": 182,
   "id": "1a8cf72f-a57d-4971-8d51-298240c5fbb5",
   "metadata": {},
   "outputs": [
    {
     "data": {
      "text/plain": [
       "['python', 'java', 'c++', 'R']"
      ]
     },
     "execution_count": 182,
     "metadata": {},
     "output_type": "execute_result"
    }
   ],
   "source": [
    "x"
   ]
  },
  {
   "cell_type": "code",
   "execution_count": 183,
   "id": "7d0185b7-e96d-40fc-957b-162d21d2385b",
   "metadata": {},
   "outputs": [],
   "source": [
    "x.append('fortran')"
   ]
  },
  {
   "cell_type": "code",
   "execution_count": 184,
   "id": "063e4dde-3d1e-46bd-86a3-efb47bfa22bc",
   "metadata": {},
   "outputs": [
    {
     "data": {
      "text/plain": [
       "['python', 'java', 'c++', 'R', 'fortran']"
      ]
     },
     "execution_count": 184,
     "metadata": {},
     "output_type": "execute_result"
    }
   ],
   "source": [
    "x"
   ]
  },
  {
   "cell_type": "code",
   "execution_count": 185,
   "id": "29764f4d-a28b-4265-8cf6-24c8a377ff82",
   "metadata": {},
   "outputs": [],
   "source": [
    "language = tuple(x)"
   ]
  },
  {
   "cell_type": "code",
   "execution_count": 186,
   "id": "6aa82be4-9dcf-4561-a28b-374fce9d2b7c",
   "metadata": {},
   "outputs": [
    {
     "data": {
      "text/plain": [
       "('python', 'java', 'c++', 'R', 'fortran')"
      ]
     },
     "execution_count": 186,
     "metadata": {},
     "output_type": "execute_result"
    }
   ],
   "source": [
    "language"
   ]
  },
  {
   "cell_type": "code",
   "execution_count": 187,
   "id": "e5b0883a-b376-4748-873a-c0675dc7c353",
   "metadata": {},
   "outputs": [],
   "source": [
    "numbers = (1,2,2,2,3,4,4,2,6)"
   ]
  },
  {
   "cell_type": "code",
   "execution_count": 188,
   "id": "2f67328b-8d3c-4acd-8f26-abbd248e23d6",
   "metadata": {},
   "outputs": [
    {
     "data": {
      "text/plain": [
       "4"
      ]
     },
     "execution_count": 188,
     "metadata": {},
     "output_type": "execute_result"
    }
   ],
   "source": [
    "numbers.count(2)"
   ]
  },
  {
   "cell_type": "code",
   "execution_count": 189,
   "id": "08e53cda-c650-4b39-b684-9ff7a529a76a",
   "metadata": {},
   "outputs": [
    {
     "data": {
      "text/plain": [
       "1"
      ]
     },
     "execution_count": 189,
     "metadata": {},
     "output_type": "execute_result"
    }
   ],
   "source": [
    "numbers.index(2)"
   ]
  },
  {
   "cell_type": "code",
   "execution_count": 190,
   "id": "52b9a186-6c3e-4c68-ae75-a07bced12c93",
   "metadata": {},
   "outputs": [],
   "source": [
    "profession = ('Engineer', 'Doctor', 'Teacher')"
   ]
  },
  {
   "cell_type": "code",
   "execution_count": 191,
   "id": "51b5e6b5-6a8f-45bc-87a7-79438fbd87ac",
   "metadata": {},
   "outputs": [],
   "source": [
    "x, y, z = profession"
   ]
  },
  {
   "cell_type": "code",
   "execution_count": 192,
   "id": "92005bc3-68bb-451a-a5ea-f5d3fcc53005",
   "metadata": {},
   "outputs": [
    {
     "data": {
      "text/plain": [
       "'Engineer'"
      ]
     },
     "execution_count": 192,
     "metadata": {},
     "output_type": "execute_result"
    }
   ],
   "source": [
    "x"
   ]
  },
  {
   "cell_type": "code",
   "execution_count": 193,
   "id": "49c31604-3dd7-438f-a343-af9a5464a301",
   "metadata": {},
   "outputs": [],
   "source": [
    "language = ['python', 'java', 'c++', 'R']"
   ]
  },
  {
   "cell_type": "code",
   "execution_count": 194,
   "id": "bd95ec8f-1f58-482c-82fb-97f176641bdc",
   "metadata": {},
   "outputs": [],
   "source": [
    "x = list(language)"
   ]
  },
  {
   "cell_type": "code",
   "execution_count": 195,
   "id": "42f880bf-a932-48f2-b9d9-75c82649b201",
   "metadata": {},
   "outputs": [
    {
     "data": {
      "text/plain": [
       "['python', 'java', 'c++', 'R']"
      ]
     },
     "execution_count": 195,
     "metadata": {},
     "output_type": "execute_result"
    }
   ],
   "source": [
    "language"
   ]
  },
  {
   "cell_type": "code",
   "execution_count": 196,
   "id": "3002a0d3-01ef-47db-9f91-407a4ad6fa89",
   "metadata": {},
   "outputs": [],
   "source": [
    "x,y,z,a = language"
   ]
  },
  {
   "cell_type": "code",
   "execution_count": 197,
   "id": "1e6757ad-154d-47b8-b985-8261fa5fa3b3",
   "metadata": {},
   "outputs": [
    {
     "data": {
      "text/plain": [
       "'c++'"
      ]
     },
     "execution_count": 197,
     "metadata": {},
     "output_type": "execute_result"
    }
   ],
   "source": [
    "z"
   ]
  },
  {
   "cell_type": "code",
   "execution_count": 198,
   "id": "39f9c5f7-89a9-4331-8437-ea6c6032127b",
   "metadata": {},
   "outputs": [],
   "source": [
    "fruits = {'apple', 'apple', 'apple', 'banana', 'cherry'}"
   ]
  },
  {
   "cell_type": "code",
   "execution_count": 199,
   "id": "cf65612a-94d4-4332-9034-7e30037bfcaa",
   "metadata": {},
   "outputs": [
    {
     "data": {
      "text/plain": [
       "{'apple', 'banana', 'cherry'}"
      ]
     },
     "execution_count": 199,
     "metadata": {},
     "output_type": "execute_result"
    }
   ],
   "source": [
    "fruits"
   ]
  },
  {
   "cell_type": "code",
   "execution_count": 200,
   "id": "84316150-c6ee-4433-8714-530c9a316089",
   "metadata": {},
   "outputs": [],
   "source": [
    "x = {1,2,2,3,4}"
   ]
  },
  {
   "cell_type": "code",
   "execution_count": 201,
   "id": "f127afc6-7ee5-4686-8e42-e6c3c481519c",
   "metadata": {},
   "outputs": [
    {
     "data": {
      "text/plain": [
       "{1, 2, 3, 4}"
      ]
     },
     "execution_count": 201,
     "metadata": {},
     "output_type": "execute_result"
    }
   ],
   "source": [
    "set(x)"
   ]
  },
  {
   "cell_type": "code",
   "execution_count": 202,
   "id": "3428fcbe-3ded-453e-b1f3-3a64be660d9d",
   "metadata": {},
   "outputs": [
    {
     "data": {
      "text/plain": [
       "{'apple', 'banana', 'cherry'}"
      ]
     },
     "execution_count": 202,
     "metadata": {},
     "output_type": "execute_result"
    }
   ],
   "source": [
    "fruits"
   ]
  },
  {
   "cell_type": "code",
   "execution_count": 203,
   "id": "dead7d6f-536e-474b-95a6-50e2a07170c6",
   "metadata": {},
   "outputs": [],
   "source": [
    "fruits.add('mango')"
   ]
  },
  {
   "cell_type": "code",
   "execution_count": 204,
   "id": "caf00238-c340-429c-91bf-5b75ddb4e78c",
   "metadata": {},
   "outputs": [
    {
     "data": {
      "text/plain": [
       "{'apple', 'banana', 'cherry', 'mango'}"
      ]
     },
     "execution_count": 204,
     "metadata": {},
     "output_type": "execute_result"
    }
   ],
   "source": [
    "fruits"
   ]
  },
  {
   "cell_type": "code",
   "execution_count": 205,
   "id": "609d1fb5-a6bc-4683-917d-295eb29fea2e",
   "metadata": {},
   "outputs": [],
   "source": [
    "fruits.remove('banana')"
   ]
  },
  {
   "cell_type": "code",
   "execution_count": 206,
   "id": "813cf3bd-c73d-4913-be7d-40fbe54a66fa",
   "metadata": {},
   "outputs": [
    {
     "data": {
      "text/plain": [
       "{'apple', 'cherry', 'mango'}"
      ]
     },
     "execution_count": 206,
     "metadata": {},
     "output_type": "execute_result"
    }
   ],
   "source": [
    "fruits"
   ]
  },
  {
   "cell_type": "code",
   "execution_count": 208,
   "id": "f4959d6d-b0b3-4bfc-a98f-165f71f8d807",
   "metadata": {},
   "outputs": [],
   "source": [
    "fruits.discard('orange')"
   ]
  },
  {
   "cell_type": "code",
   "execution_count": 209,
   "id": "4da1b608-8c37-472f-b77f-7b4ae06544f3",
   "metadata": {},
   "outputs": [
    {
     "data": {
      "text/plain": [
       "{'apple', 'cherry', 'mango'}"
      ]
     },
     "execution_count": 209,
     "metadata": {},
     "output_type": "execute_result"
    }
   ],
   "source": [
    "fruits"
   ]
  },
  {
   "cell_type": "code",
   "execution_count": 210,
   "id": "eada7079-f828-4acd-882a-5417097099dd",
   "metadata": {},
   "outputs": [
    {
     "data": {
      "text/plain": [
       "{'apple', 'cherry', 'mango'}"
      ]
     },
     "execution_count": 210,
     "metadata": {},
     "output_type": "execute_result"
    }
   ],
   "source": [
    "fruits"
   ]
  },
  {
   "cell_type": "code",
   "execution_count": 211,
   "id": "d869625c-10ed-4890-8bfa-168e9930266b",
   "metadata": {},
   "outputs": [
    {
     "data": {
      "text/plain": [
       "'mango'"
      ]
     },
     "execution_count": 211,
     "metadata": {},
     "output_type": "execute_result"
    }
   ],
   "source": [
    "fruits.pop()"
   ]
  },
  {
   "cell_type": "code",
   "execution_count": 212,
   "id": "d63a9e0a-21c4-4544-ac85-40e00b8d0cc8",
   "metadata": {},
   "outputs": [],
   "source": [
    "student = {\n",
    "    'name' : 'Morenikeji', \n",
    "    'age' : 26, \n",
    "    'GPA' : 3.93\n",
    "}"
   ]
  },
  {
   "cell_type": "code",
   "execution_count": 213,
   "id": "92dc5106-ea6c-43c2-aeb1-a9e2914b8606",
   "metadata": {},
   "outputs": [
    {
     "data": {
      "text/plain": [
       "{'name': 'Morenikeji', 'age': 26, 'GPA': 3.93}"
      ]
     },
     "execution_count": 213,
     "metadata": {},
     "output_type": "execute_result"
    }
   ],
   "source": [
    "student"
   ]
  },
  {
   "cell_type": "code",
   "execution_count": 214,
   "id": "3159c5ff-bd53-45d9-976f-dcdfc5c93181",
   "metadata": {},
   "outputs": [
    {
     "data": {
      "text/plain": [
       "dict_keys(['name', 'age', 'GPA'])"
      ]
     },
     "execution_count": 214,
     "metadata": {},
     "output_type": "execute_result"
    }
   ],
   "source": [
    "student.keys()"
   ]
  },
  {
   "cell_type": "code",
   "execution_count": 215,
   "id": "679598b2-5ae4-43e5-bfa3-0155dc5848d4",
   "metadata": {},
   "outputs": [
    {
     "data": {
      "text/plain": [
       "dict_values(['Morenikeji', 26, 3.93])"
      ]
     },
     "execution_count": 215,
     "metadata": {},
     "output_type": "execute_result"
    }
   ],
   "source": [
    "student.values()"
   ]
  },
  {
   "cell_type": "code",
   "execution_count": 216,
   "id": "d46b9894-3335-495e-9bb9-92f12ac0f538",
   "metadata": {},
   "outputs": [
    {
     "data": {
      "text/plain": [
       "dict_items([('name', 'Morenikeji'), ('age', 26), ('GPA', 3.93)])"
      ]
     },
     "execution_count": 216,
     "metadata": {},
     "output_type": "execute_result"
    }
   ],
   "source": [
    "student.items()"
   ]
  },
  {
   "cell_type": "code",
   "execution_count": 217,
   "id": "53559fc5-4648-44ca-97f0-f0d138962d4c",
   "metadata": {},
   "outputs": [],
   "source": [
    "students = {\n",
    "    'name' : ['Becky', 'Remi', 'Glory'],\n",
    "    'age': [25,26,27],\n",
    "    'GPA' : [4.98, 4.65, 3.98]\n",
    "}"
   ]
  },
  {
   "cell_type": "code",
   "execution_count": 218,
   "id": "de3abf0e-1400-44f6-afba-2423009c81a7",
   "metadata": {},
   "outputs": [
    {
     "data": {
      "text/html": [
       "<div>\n",
       "<style scoped>\n",
       "    .dataframe tbody tr th:only-of-type {\n",
       "        vertical-align: middle;\n",
       "    }\n",
       "\n",
       "    .dataframe tbody tr th {\n",
       "        vertical-align: top;\n",
       "    }\n",
       "\n",
       "    .dataframe thead th {\n",
       "        text-align: right;\n",
       "    }\n",
       "</style>\n",
       "<table border=\"1\" class=\"dataframe\">\n",
       "  <thead>\n",
       "    <tr style=\"text-align: right;\">\n",
       "      <th></th>\n",
       "      <th>name</th>\n",
       "      <th>age</th>\n",
       "      <th>GPA</th>\n",
       "    </tr>\n",
       "  </thead>\n",
       "  <tbody>\n",
       "    <tr>\n",
       "      <th>0</th>\n",
       "      <td>Becky</td>\n",
       "      <td>25</td>\n",
       "      <td>4.98</td>\n",
       "    </tr>\n",
       "    <tr>\n",
       "      <th>1</th>\n",
       "      <td>Remi</td>\n",
       "      <td>26</td>\n",
       "      <td>4.65</td>\n",
       "    </tr>\n",
       "    <tr>\n",
       "      <th>2</th>\n",
       "      <td>Glory</td>\n",
       "      <td>27</td>\n",
       "      <td>3.98</td>\n",
       "    </tr>\n",
       "  </tbody>\n",
       "</table>\n",
       "</div>"
      ],
      "text/plain": [
       "    name  age   GPA\n",
       "0  Becky   25  4.98\n",
       "1   Remi   26  4.65\n",
       "2  Glory   27  3.98"
      ]
     },
     "execution_count": 218,
     "metadata": {},
     "output_type": "execute_result"
    }
   ],
   "source": [
    "import pandas as pd\n",
    "\n",
    "df = pd.DataFrame(students)\n",
    "df"
   ]
  },
  {
   "cell_type": "code",
   "execution_count": 219,
   "id": "8da21f6e-16e1-4342-9028-1dc3baea3b39",
   "metadata": {},
   "outputs": [],
   "source": [
    "food = 'garri'"
   ]
  },
  {
   "cell_type": "code",
   "execution_count": 220,
   "id": "872a9f2f-e87e-402b-9cfd-d2efb3584144",
   "metadata": {},
   "outputs": [
    {
     "data": {
      "text/plain": [
       "'GARRI'"
      ]
     },
     "execution_count": 220,
     "metadata": {},
     "output_type": "execute_result"
    }
   ],
   "source": [
    "food.upper()"
   ]
  },
  {
   "cell_type": "code",
   "execution_count": 221,
   "id": "c864377f-3467-4e3f-b992-872993e87825",
   "metadata": {},
   "outputs": [],
   "source": [
    "fruits = {'apple', 'apple', 'apple', 'banana', 'cherry'}"
   ]
  },
  {
   "cell_type": "code",
   "execution_count": 222,
   "id": "f820479c-d1ce-4f0a-b7e5-837624a890f6",
   "metadata": {},
   "outputs": [
    {
     "data": {
      "text/plain": [
       "{'apple', 'banana', 'cherry'}"
      ]
     },
     "execution_count": 222,
     "metadata": {},
     "output_type": "execute_result"
    }
   ],
   "source": [
    "fruits"
   ]
  },
  {
   "cell_type": "code",
   "execution_count": 223,
   "id": "63e22e0f-f384-4035-86bf-72a2092746c8",
   "metadata": {},
   "outputs": [],
   "source": [
    "upper_fruits = [fruit.upper() for fruit in fruits]"
   ]
  },
  {
   "cell_type": "code",
   "execution_count": 224,
   "id": "6b36c948-4cd7-47df-8131-649682d6cab2",
   "metadata": {},
   "outputs": [
    {
     "data": {
      "text/plain": [
       "['APPLE', 'CHERRY', 'BANANA']"
      ]
     },
     "execution_count": 224,
     "metadata": {},
     "output_type": "execute_result"
    }
   ],
   "source": [
    "upper_fruits"
   ]
  },
  {
   "cell_type": "code",
   "execution_count": 225,
   "id": "b5016678-62a0-484f-b77d-82e8a9e50a6b",
   "metadata": {},
   "outputs": [],
   "source": [
    "numbers = range(1,31)"
   ]
  },
  {
   "cell_type": "code",
   "execution_count": 226,
   "id": "0e834398-8aa8-4362-9dcc-1dd124c5a4a0",
   "metadata": {},
   "outputs": [],
   "source": [
    "even_number = [number for number in numbers]"
   ]
  },
  {
   "cell_type": "code",
   "execution_count": 227,
   "id": "aa56739e-34f4-485b-b965-8dace80c1e8d",
   "metadata": {},
   "outputs": [
    {
     "data": {
      "text/plain": [
       "[1,\n",
       " 2,\n",
       " 3,\n",
       " 4,\n",
       " 5,\n",
       " 6,\n",
       " 7,\n",
       " 8,\n",
       " 9,\n",
       " 10,\n",
       " 11,\n",
       " 12,\n",
       " 13,\n",
       " 14,\n",
       " 15,\n",
       " 16,\n",
       " 17,\n",
       " 18,\n",
       " 19,\n",
       " 20,\n",
       " 21,\n",
       " 22,\n",
       " 23,\n",
       " 24,\n",
       " 25,\n",
       " 26,\n",
       " 27,\n",
       " 28,\n",
       " 29,\n",
       " 30]"
      ]
     },
     "execution_count": 227,
     "metadata": {},
     "output_type": "execute_result"
    }
   ],
   "source": [
    "even_number"
   ]
  },
  {
   "cell_type": "code",
   "execution_count": 228,
   "id": "01988348-3762-46d9-889a-ccd411100026",
   "metadata": {},
   "outputs": [],
   "source": [
    "even_number = [number for number in numbers if number % 2 == 0]"
   ]
  },
  {
   "cell_type": "code",
   "execution_count": 229,
   "id": "70bef905-8b5b-451e-9788-239050659621",
   "metadata": {},
   "outputs": [
    {
     "data": {
      "text/plain": [
       "[2, 4, 6, 8, 10, 12, 14, 16, 18, 20, 22, 24, 26, 28, 30]"
      ]
     },
     "execution_count": 229,
     "metadata": {},
     "output_type": "execute_result"
    }
   ],
   "source": [
    "even_number"
   ]
  },
  {
   "cell_type": "code",
   "execution_count": 230,
   "id": "9adee014-3a29-47bc-aa61-bc5cba58066b",
   "metadata": {},
   "outputs": [],
   "source": [
    "numbers = range (1,31)"
   ]
  },
  {
   "cell_type": "code",
   "execution_count": 231,
   "id": "632524b8-8025-4464-ac56-2c074664adaa",
   "metadata": {},
   "outputs": [
    {
     "data": {
      "text/plain": [
       "range(1, 31)"
      ]
     },
     "execution_count": 231,
     "metadata": {},
     "output_type": "execute_result"
    }
   ],
   "source": [
    "numbers"
   ]
  },
  {
   "cell_type": "code",
   "execution_count": 232,
   "id": "90c353aa-cf9b-4d24-8730-0af1e3f91ddc",
   "metadata": {},
   "outputs": [],
   "source": [
    "even_number = [number for number in numbers if number % 2 == 0]"
   ]
  },
  {
   "cell_type": "code",
   "execution_count": 233,
   "id": "33b3048c-c54a-4b64-855a-9888151038ee",
   "metadata": {},
   "outputs": [
    {
     "data": {
      "text/plain": [
       "[2, 4, 6, 8, 10, 12, 14, 16, 18, 20, 22, 24, 26, 28, 30]"
      ]
     },
     "execution_count": 233,
     "metadata": {},
     "output_type": "execute_result"
    }
   ],
   "source": [
    "even_number"
   ]
  },
  {
   "cell_type": "code",
   "execution_count": 234,
   "id": "a0f3ea9a-85cf-4392-8eef-45604a5f77d3",
   "metadata": {},
   "outputs": [],
   "source": [
    "text = 'MORENIKEJI'"
   ]
  },
  {
   "cell_type": "code",
   "execution_count": 235,
   "id": "8d68c845-61bf-4298-9ff0-7f975abc071c",
   "metadata": {},
   "outputs": [
    {
     "data": {
      "text/plain": [
       "'MORENIKEJI'"
      ]
     },
     "execution_count": 235,
     "metadata": {},
     "output_type": "execute_result"
    }
   ],
   "source": [
    "text"
   ]
  },
  {
   "cell_type": "code",
   "execution_count": 236,
   "id": "b3e11e3b-4989-4e5b-8801-9c235f829584",
   "metadata": {},
   "outputs": [
    {
     "data": {
      "text/plain": [
       "'M'"
      ]
     },
     "execution_count": 236,
     "metadata": {},
     "output_type": "execute_result"
    }
   ],
   "source": [
    "text [0]"
   ]
  },
  {
   "cell_type": "code",
   "execution_count": 237,
   "id": "42341036-4c36-49b0-83dd-4db7c304280d",
   "metadata": {},
   "outputs": [
    {
     "data": {
      "text/plain": [
       "'I'"
      ]
     },
     "execution_count": 237,
     "metadata": {},
     "output_type": "execute_result"
    }
   ],
   "source": [
    "text [5]"
   ]
  },
  {
   "cell_type": "code",
   "execution_count": 238,
   "id": "cd17662f-a1ad-462f-af48-a8546a079db3",
   "metadata": {},
   "outputs": [],
   "source": [
    "num = [123]"
   ]
  },
  {
   "cell_type": "code",
   "execution_count": 239,
   "id": "314f270d-dda5-44c8-bb36-fe133e3653ab",
   "metadata": {},
   "outputs": [
    {
     "data": {
      "text/plain": [
       "list"
      ]
     },
     "execution_count": 239,
     "metadata": {},
     "output_type": "execute_result"
    }
   ],
   "source": [
    "type (num)"
   ]
  },
  {
   "cell_type": "raw",
   "id": "d16e0e02-1388-4567-b5db-a78b0827ebd8",
   "metadata": {},
   "source": [
    "fruits = ['apple, 'banana', 'cherry', 'date', 'cherry']"
   ]
  },
  {
   "cell_type": "code",
   "execution_count": 240,
   "id": "b166a23f-5707-404d-9991-252544c7088d",
   "metadata": {},
   "outputs": [
    {
     "data": {
      "text/plain": [
       "{'apple', 'banana', 'cherry'}"
      ]
     },
     "execution_count": 240,
     "metadata": {},
     "output_type": "execute_result"
    }
   ],
   "source": [
    "fruits"
   ]
  },
  {
   "cell_type": "code",
   "execution_count": 241,
   "id": "2f137f11-427f-45c4-9f67-2f8c04f58238",
   "metadata": {},
   "outputs": [
    {
     "name": "stdout",
     "output_type": "stream",
     "text": [
      "you are eligible to vote\n"
     ]
    }
   ],
   "source": [
    "# basic if statement\n",
    "age = 18 \n",
    "\n",
    "if age >= 18:\n",
    "    print('you are eligible to vote')"
   ]
  },
  {
   "cell_type": "code",
   "execution_count": 242,
   "id": "88c0184f-3f56-4e9a-a126-d71953784428",
   "metadata": {},
   "outputs": [
    {
     "name": "stdout",
     "output_type": "stream",
     "text": [
      "yo!\n"
     ]
    }
   ],
   "source": [
    "# \n",
    "\n",
    "temperature = 21\n",
    "\n",
    "if temperature > 25:\n",
    "    print ('It is a sunny day.')\n",
    "\n",
    "else: \n",
    "    print ('yo!')"
   ]
  },
  {
   "cell_type": "code",
   "execution_count": 243,
   "id": "17f54a11-f220-4b91-a9b0-b06c102ab3ed",
   "metadata": {},
   "outputs": [
    {
     "name": "stdin",
     "output_type": "stream",
     "text": [
      "Hello! How are you today? I am fine\n"
     ]
    },
    {
     "name": "stdout",
     "output_type": "stream",
     "text": [
      "I am fine!\n"
     ]
    }
   ],
   "source": [
    "feeling = input('Hello! How are you today?')\n",
    "\n",
    "if feeling == 'I am fine':\n",
    "    print(\"I am fine!\")\n",
    "elif feeling == 'I am not fine':\n",
    "    print ('I am not fine')\n",
    "elif feeling == 'I am just there':\n",
    "    print ('I am just there')\n",
    "#else feeling == \"I don't know\":\n",
    "     #print (\"I don't know\")\n",
    "                \n"
   ]
  },
  {
   "cell_type": "code",
   "execution_count": 244,
   "id": "9044f060-05ba-47d5-b848-10c1e794d394",
   "metadata": {},
   "outputs": [
    {
     "name": "stdin",
     "output_type": "stream",
     "text": [
      "Enter your age:  18\n",
      "Are you a citizen of this country? (yes or no):  Yes\n"
     ]
    },
    {
     "name": "stdout",
     "output_type": "stream",
     "text": [
      "You are eligible to vote.\n"
     ]
    }
   ],
   "source": [
    "# Voter Eligibility Checker\n",
    "\n",
    "# Ask for the user's age\n",
    "age = int(input(\"Enter your age: \"))\n",
    "\n",
    "# Check if age is 18 or older\n",
    "if age >= 18:\n",
    "    # Ask if the user is a citizen\n",
    "    citizenship = input(\"Are you a citizen of this country? (yes or no): \").lower()\n",
    "    \n",
    "    if citizenship == \"yes\":\n",
    "        print(\"You are eligible to vote.\")\n",
    "    elif citizenship == \"no\":\n",
    "        print(\"You need to be a citizen to vote.\")\n",
    "    else:\n",
    "        print(\"Invalid input. Please enter 'yes' or 'no'.\")\n",
    "else:\n",
    "    print(\"You need to be at least 18 years old to vote.\")\n"
   ]
  },
  {
   "cell_type": "code",
   "execution_count": 245,
   "id": "cddbbdcd-4422-4548-9766-55f1ea13ebe1",
   "metadata": {},
   "outputs": [
    {
     "name": "stdout",
     "output_type": "stream",
     "text": [
      "My name is Morenikeji Euba\n"
     ]
    }
   ],
   "source": [
    "first_name = \"Morenikeji\"\n",
    "last_name = \"Euba\"\n",
    "\n",
    "print(\"My name is\", first_name + \" \" + last_name)"
   ]
  },
  {
   "cell_type": "code",
   "execution_count": 246,
   "id": "fc57d417-e416-454e-b406-8097c327ce96",
   "metadata": {},
   "outputs": [
    {
     "name": "stdout",
     "output_type": "stream",
     "text": [
      "I am 26 years old.\n"
     ]
    }
   ],
   "source": [
    "age = 26\n",
    "print(\"I am\", age, \"years old.\")"
   ]
  },
  {
   "cell_type": "code",
   "execution_count": 247,
   "id": "e9c6a040-208e-44c9-9400-c11b00f0ceb6",
   "metadata": {},
   "outputs": [],
   "source": [
    "first_name = \"Morenikeji\"\n",
    "sentence = \"I will get it!\"\n"
   ]
  },
  {
   "cell_type": "code",
   "execution_count": 248,
   "id": "b75ae197-e2f5-4784-b5ff-fefe214ee3dc",
   "metadata": {},
   "outputs": [
    {
     "data": {
      "text/plain": [
       "'Morenikeji'"
      ]
     },
     "execution_count": 248,
     "metadata": {},
     "output_type": "execute_result"
    }
   ],
   "source": [
    "first_name"
   ]
  },
  {
   "cell_type": "code",
   "execution_count": 249,
   "id": "05423566-5e07-4b8b-a433-9160da846b84",
   "metadata": {},
   "outputs": [
    {
     "name": "stdout",
     "output_type": "stream",
     "text": [
      "In my first python class, I {first_name}said {sentence}\n"
     ]
    }
   ],
   "source": [
    "print(\"In my first python class, I {first_name}said {sentence}\")"
   ]
  },
  {
   "cell_type": "code",
   "execution_count": 250,
   "id": "71f3f4aa-c8e9-4fb4-b917-40bfe9caded5",
   "metadata": {},
   "outputs": [
    {
     "name": "stdout",
     "output_type": "stream",
     "text": [
      "Hello \n",
      " world\n"
     ]
    }
   ],
   "source": [
    "print(\"Hello \\n world\")"
   ]
  },
  {
   "cell_type": "code",
   "execution_count": 251,
   "id": "c2d86ce5-19d6-4adb-9ea9-bf930c46fdcc",
   "metadata": {},
   "outputs": [
    {
     "name": "stdout",
     "output_type": "stream",
     "text": [
      "item \t price\n",
      "apple\t $2\n",
      "banana \t $10\n"
     ]
    }
   ],
   "source": [
    "print('item \\t price')\n",
    "print('apple\\t $2')\n",
    "print('banana \\t $10')"
   ]
  },
  {
   "cell_type": "code",
   "execution_count": 252,
   "id": "d25e503b-0241-42db-a3ce-1848badb6fc0",
   "metadata": {},
   "outputs": [],
   "source": [
    "name = 'folarin'"
   ]
  },
  {
   "cell_type": "code",
   "execution_count": 253,
   "id": "991230ca-97be-4b65-b758-90a5f316a777",
   "metadata": {},
   "outputs": [
    {
     "data": {
      "text/plain": [
       "'folarin'"
      ]
     },
     "execution_count": 253,
     "metadata": {},
     "output_type": "execute_result"
    }
   ],
   "source": [
    "name"
   ]
  },
  {
   "cell_type": "code",
   "execution_count": 254,
   "id": "4316e0f3-9208-498b-b0ac-8ac6a419d929",
   "metadata": {},
   "outputs": [
    {
     "data": {
      "text/plain": [
       "'Folarin'"
      ]
     },
     "execution_count": 254,
     "metadata": {},
     "output_type": "execute_result"
    }
   ],
   "source": [
    "name.capitalize()"
   ]
  },
  {
   "cell_type": "markdown",
   "id": "6afaa1dc-b1cc-4523-b135-23e5cb54aab1",
   "metadata": {},
   "source": [
    "name = \"Morenikeji Euba\""
   ]
  },
  {
   "cell_type": "code",
   "execution_count": 255,
   "id": "b0497bd4-8463-441a-9fe1-63d88f72f09f",
   "metadata": {},
   "outputs": [
    {
     "data": {
      "text/plain": [
       "'folarin'"
      ]
     },
     "execution_count": 255,
     "metadata": {},
     "output_type": "execute_result"
    }
   ],
   "source": [
    "name"
   ]
  },
  {
   "cell_type": "code",
   "execution_count": 256,
   "id": "90049883-eea6-471e-9a70-dc9c68153f65",
   "metadata": {},
   "outputs": [],
   "source": [
    "name = \"Morenikeji Euba\""
   ]
  },
  {
   "cell_type": "code",
   "execution_count": 257,
   "id": "89324164-8100-4670-870a-65d25458c256",
   "metadata": {},
   "outputs": [
    {
     "data": {
      "text/plain": [
       "'Morenikeji Euba'"
      ]
     },
     "execution_count": 257,
     "metadata": {},
     "output_type": "execute_result"
    }
   ],
   "source": [
    "name"
   ]
  },
  {
   "cell_type": "code",
   "execution_count": 258,
   "id": "ab56ff96-1128-43d7-9251-e36a61c9c7c6",
   "metadata": {},
   "outputs": [
    {
     "data": {
      "text/plain": [
       "'Morenikeji EubaMorenikeji Euba'"
      ]
     },
     "execution_count": 258,
     "metadata": {},
     "output_type": "execute_result"
    }
   ],
   "source": [
    "name * 2"
   ]
  },
  {
   "cell_type": "code",
   "execution_count": 259,
   "id": "69bfabdc-0f27-4016-84e8-ef3ef2b395ea",
   "metadata": {},
   "outputs": [
    {
     "name": "stdout",
     "output_type": "stream",
     "text": [
      "Morenikeji Euba Morenikeji Euba Morenikeji Euba \n"
     ]
    }
   ],
   "source": [
    "print((name + \" \")*3)"
   ]
  },
  {
   "cell_type": "code",
   "execution_count": 260,
   "id": "32f6d64c-a388-407f-b81a-a6b0e316d8a8",
   "metadata": {},
   "outputs": [
    {
     "data": {
      "text/plain": [
       "['I', 'love', 'God']"
      ]
     },
     "execution_count": 260,
     "metadata": {},
     "output_type": "execute_result"
    }
   ],
   "source": [
    "text = \"I love God\"\n",
    "text.split()"
   ]
  },
  {
   "cell_type": "code",
   "execution_count": 261,
   "id": "71705de6-47ce-45e1-9fc5-1e905a161ab9",
   "metadata": {},
   "outputs": [],
   "source": [
    "text = \"I love programming is fun\"\n"
   ]
  },
  {
   "cell_type": "code",
   "execution_count": 262,
   "id": "17d92bad-ac66-4d5a-b47c-90870c48dc00",
   "metadata": {},
   "outputs": [
    {
     "data": {
      "text/plain": [
       "7"
      ]
     },
     "execution_count": 262,
     "metadata": {},
     "output_type": "execute_result"
    }
   ],
   "source": [
    "text.find('programming')"
   ]
  },
  {
   "cell_type": "code",
   "execution_count": 263,
   "id": "a1f5c4a4-c95d-47cc-8ab0-180eb4ad8eaa",
   "metadata": {},
   "outputs": [
    {
     "data": {
      "text/plain": [
       "2"
      ]
     },
     "execution_count": 263,
     "metadata": {},
     "output_type": "execute_result"
    }
   ],
   "source": [
    "text.count('o')"
   ]
  },
  {
   "cell_type": "code",
   "execution_count": 264,
   "id": "02725752-7a88-4acf-8ccc-49f99fa4cd9f",
   "metadata": {},
   "outputs": [],
   "source": [
    "fruits = ['apple', 'banana', 'orange', 'strawberry', 'grape', 'lemon']"
   ]
  },
  {
   "cell_type": "code",
   "execution_count": 265,
   "id": "828d51e5-805a-4039-8209-5ca12ec87176",
   "metadata": {},
   "outputs": [
    {
     "data": {
      "text/plain": [
       "'apple'"
      ]
     },
     "execution_count": 265,
     "metadata": {},
     "output_type": "execute_result"
    }
   ],
   "source": [
    "fruits [0]"
   ]
  },
  {
   "cell_type": "code",
   "execution_count": 266,
   "id": "92fce058-976c-4178-9cc1-98a73a4f3632",
   "metadata": {},
   "outputs": [
    {
     "data": {
      "text/plain": [
       "['banana', 'orange']"
      ]
     },
     "execution_count": 266,
     "metadata": {},
     "output_type": "execute_result"
    }
   ],
   "source": [
    "fruits [1:3]"
   ]
  },
  {
   "cell_type": "code",
   "execution_count": 267,
   "id": "795666bf-c897-4df8-ad0f-14c67f20519a",
   "metadata": {},
   "outputs": [
    {
     "data": {
      "text/plain": [
       "['apple', 'banana', 'orange', 'strawberry', 'grape', 'lemon']"
      ]
     },
     "execution_count": 267,
     "metadata": {},
     "output_type": "execute_result"
    }
   ],
   "source": [
    "fruits [0:6]"
   ]
  },
  {
   "cell_type": "code",
   "execution_count": 268,
   "id": "7e936f0a-36e5-4f96-8568-b347a6a89fbb",
   "metadata": {},
   "outputs": [
    {
     "data": {
      "text/plain": [
       "['banana', 'orange', 'strawberry', 'grape', 'lemon']"
      ]
     },
     "execution_count": 268,
     "metadata": {},
     "output_type": "execute_result"
    }
   ],
   "source": [
    "fruits[1:]"
   ]
  },
  {
   "cell_type": "code",
   "execution_count": 269,
   "id": "765755b0-4e88-4ad3-8bc4-b13404c708bb",
   "metadata": {},
   "outputs": [
    {
     "data": {
      "text/plain": [
       "['apple', 'banana', 'orange', 'strawberry', 'grape', 'lemon']"
      ]
     },
     "execution_count": 269,
     "metadata": {},
     "output_type": "execute_result"
    }
   ],
   "source": [
    "fruits[0:]"
   ]
  },
  {
   "cell_type": "code",
   "execution_count": 270,
   "id": "b12f3ed6-b4b5-4b5d-94f2-c911488f657b",
   "metadata": {},
   "outputs": [
    {
     "data": {
      "text/plain": [
       "['lemon']"
      ]
     },
     "execution_count": 270,
     "metadata": {},
     "output_type": "execute_result"
    }
   ],
   "source": [
    "fruits[-1:]"
   ]
  },
  {
   "cell_type": "code",
   "execution_count": 271,
   "id": "93a75923-7772-4e3f-af3c-3e9d02a85875",
   "metadata": {},
   "outputs": [
    {
     "data": {
      "text/plain": [
       "['apple', 'banana', 'orange', 'strawberry', 'grape', 'lemon']"
      ]
     },
     "execution_count": 271,
     "metadata": {},
     "output_type": "execute_result"
    }
   ],
   "source": [
    "fruits[::]"
   ]
  },
  {
   "cell_type": "code",
   "execution_count": 272,
   "id": "679fbb9b-01ee-439d-afad-0a9c2237b13c",
   "metadata": {},
   "outputs": [
    {
     "data": {
      "text/plain": [
       "['apple', 'orange', 'grape']"
      ]
     },
     "execution_count": 272,
     "metadata": {},
     "output_type": "execute_result"
    }
   ],
   "source": [
    "fruits[::2]"
   ]
  },
  {
   "cell_type": "code",
   "execution_count": 273,
   "id": "b52e9f1e-0be5-4731-bdc4-6300cb821825",
   "metadata": {},
   "outputs": [],
   "source": [
    "fruits.append('luck')"
   ]
  },
  {
   "cell_type": "code",
   "execution_count": 274,
   "id": "8dfbe010-22ee-4fe8-b0b4-339548f3c7b3",
   "metadata": {},
   "outputs": [
    {
     "data": {
      "text/plain": [
       "['apple', 'banana', 'orange', 'strawberry', 'grape', 'lemon', 'luck']"
      ]
     },
     "execution_count": 274,
     "metadata": {},
     "output_type": "execute_result"
    }
   ],
   "source": [
    "fruits"
   ]
  },
  {
   "cell_type": "code",
   "execution_count": 275,
   "id": "e6ad9c6f-031d-450e-86b6-074aa9d7c1bf",
   "metadata": {},
   "outputs": [],
   "source": [
    "fruits.insert(2,'babe')"
   ]
  },
  {
   "cell_type": "code",
   "execution_count": 276,
   "id": "d2540294-f143-4feb-8965-7b212d6b990c",
   "metadata": {},
   "outputs": [
    {
     "data": {
      "text/plain": [
       "['apple', 'banana', 'babe', 'orange', 'strawberry', 'grape', 'lemon', 'luck']"
      ]
     },
     "execution_count": 276,
     "metadata": {},
     "output_type": "execute_result"
    }
   ],
   "source": [
    "fruits"
   ]
  },
  {
   "cell_type": "code",
   "execution_count": 277,
   "id": "b13e309e-94d5-4e6c-8e56-b7e4da0a3c25",
   "metadata": {},
   "outputs": [],
   "source": [
    "numbers = list(range( 1,31))"
   ]
  },
  {
   "cell_type": "code",
   "execution_count": 278,
   "id": "2c2b7ead-045b-4693-addb-af2111abff6e",
   "metadata": {},
   "outputs": [
    {
     "data": {
      "text/plain": [
       "[1,\n",
       " 2,\n",
       " 3,\n",
       " 4,\n",
       " 5,\n",
       " 6,\n",
       " 7,\n",
       " 8,\n",
       " 9,\n",
       " 10,\n",
       " 11,\n",
       " 12,\n",
       " 13,\n",
       " 14,\n",
       " 15,\n",
       " 16,\n",
       " 17,\n",
       " 18,\n",
       " 19,\n",
       " 20,\n",
       " 21,\n",
       " 22,\n",
       " 23,\n",
       " 24,\n",
       " 25,\n",
       " 26,\n",
       " 27,\n",
       " 28,\n",
       " 29,\n",
       " 30]"
      ]
     },
     "execution_count": 278,
     "metadata": {},
     "output_type": "execute_result"
    }
   ],
   "source": [
    "numbers"
   ]
  },
  {
   "cell_type": "code",
   "execution_count": 279,
   "id": "5828599d-79e0-41ef-86d7-ada56524064c",
   "metadata": {},
   "outputs": [
    {
     "name": "stdout",
     "output_type": "stream",
     "text": [
      "[2, 4, 6, 8, 10, 12, 14, 16, 18, 20, 22, 24, 26, 28, 30]\n"
     ]
    }
   ],
   "source": [
    "even_numbers = [num for num in numbers if num % 2 == 0]\n",
    "print(even_numbers)"
   ]
  },
  {
   "cell_type": "code",
   "execution_count": 280,
   "id": "d3136f3a-219b-499c-8677-27588de044fb",
   "metadata": {},
   "outputs": [],
   "source": [
    "tups = ['Python', 'Java', 'C++', 'R']"
   ]
  },
  {
   "cell_type": "code",
   "execution_count": 281,
   "id": "1df1c482-5f3b-413f-b7c0-827485a2da78",
   "metadata": {},
   "outputs": [],
   "source": [
    "x = list(tups)"
   ]
  },
  {
   "cell_type": "code",
   "execution_count": 282,
   "id": "75a6d436-9d81-44a1-9af3-a72d60b39c05",
   "metadata": {},
   "outputs": [
    {
     "data": {
      "text/plain": [
       "['Python', 'Java', 'C++', 'R']"
      ]
     },
     "execution_count": 282,
     "metadata": {},
     "output_type": "execute_result"
    }
   ],
   "source": [
    "x"
   ]
  },
  {
   "cell_type": "code",
   "execution_count": 283,
   "id": "f56c6508-d474-42e5-a8e6-b66fa772b4bf",
   "metadata": {},
   "outputs": [],
   "source": [
    "x.append('Fertran')"
   ]
  },
  {
   "cell_type": "code",
   "execution_count": 284,
   "id": "ba94583f-0e04-4306-8793-32f851c02df8",
   "metadata": {},
   "outputs": [
    {
     "data": {
      "text/plain": [
       "['Python', 'Java', 'C++', 'R', 'Fertran']"
      ]
     },
     "execution_count": 284,
     "metadata": {},
     "output_type": "execute_result"
    }
   ],
   "source": [
    "x"
   ]
  },
  {
   "cell_type": "code",
   "execution_count": 285,
   "id": "d02538d3-2b39-4757-b586-59b84a0a9356",
   "metadata": {},
   "outputs": [],
   "source": [
    "profession = ('Nurse', 'Doctor', 'Dietitian')"
   ]
  },
  {
   "cell_type": "code",
   "execution_count": 286,
   "id": "400899f4-d883-4bbe-8d27-f6d53ccf023a",
   "metadata": {},
   "outputs": [
    {
     "data": {
      "text/plain": [
       "('Nurse', 'Doctor', 'Dietitian')"
      ]
     },
     "execution_count": 286,
     "metadata": {},
     "output_type": "execute_result"
    }
   ],
   "source": [
    "profession"
   ]
  },
  {
   "cell_type": "code",
   "execution_count": 287,
   "id": "732bc11a-b65a-4489-9a28-71bc1af9be48",
   "metadata": {},
   "outputs": [
    {
     "data": {
      "text/plain": [
       "['Python', 'Java', 'C++', 'R', 'Fertran']"
      ]
     },
     "execution_count": 287,
     "metadata": {},
     "output_type": "execute_result"
    }
   ],
   "source": [
    "x"
   ]
  },
  {
   "cell_type": "code",
   "execution_count": 288,
   "id": "a744bfc0-7c38-46ff-8329-8f84250798fb",
   "metadata": {},
   "outputs": [
    {
     "name": "stdout",
     "output_type": "stream",
     "text": [
      "{'name': ['Euba', 'Oluwatobiloba', 'Babajide', 'Papa'], 'age': [26, 28, 29, 30], 'love': ['Yes', 'No', 'Yes', 'No']}\n"
     ]
    }
   ],
   "source": [
    "my_dict = {\n",
    "    \"name\": [\"Euba\", \"Oluwatobiloba\", \"Babajide\", \"Papa\"],\n",
    "    \"age\": [26, 28, 29,30],\n",
    "    \"love\": [\"Yes\", \"No\", \"Yes\", \"No\"]\n",
    "}\n",
    "\n",
    "print (my_dict)"
   ]
  },
  {
   "cell_type": "code",
   "execution_count": 289,
   "id": "3c378a01-ee10-4262-9299-e287485be462",
   "metadata": {},
   "outputs": [
    {
     "name": "stdout",
     "output_type": "stream",
     "text": [
      "['Euba', 'Oluwatobiloba', 'Babajide', 'Papa']\n",
      "[26, 28, 29, 30]\n"
     ]
    }
   ],
   "source": [
    "print(my_dict[\"name\"])  # Output: Euba\n",
    "print(my_dict[\"age\"])   # Output: 25\n"
   ]
  },
  {
   "cell_type": "code",
   "execution_count": 290,
   "id": "7e88a491-77e2-4376-9657-89acf66156fa",
   "metadata": {},
   "outputs": [],
   "source": [
    "numbers = list(range(1,51))"
   ]
  },
  {
   "cell_type": "code",
   "execution_count": 291,
   "id": "80fe3270-af6f-44e4-9e91-9b7ec0e37a86",
   "metadata": {},
   "outputs": [
    {
     "data": {
      "text/plain": [
       "[1,\n",
       " 2,\n",
       " 3,\n",
       " 4,\n",
       " 5,\n",
       " 6,\n",
       " 7,\n",
       " 8,\n",
       " 9,\n",
       " 10,\n",
       " 11,\n",
       " 12,\n",
       " 13,\n",
       " 14,\n",
       " 15,\n",
       " 16,\n",
       " 17,\n",
       " 18,\n",
       " 19,\n",
       " 20,\n",
       " 21,\n",
       " 22,\n",
       " 23,\n",
       " 24,\n",
       " 25,\n",
       " 26,\n",
       " 27,\n",
       " 28,\n",
       " 29,\n",
       " 30,\n",
       " 31,\n",
       " 32,\n",
       " 33,\n",
       " 34,\n",
       " 35,\n",
       " 36,\n",
       " 37,\n",
       " 38,\n",
       " 39,\n",
       " 40,\n",
       " 41,\n",
       " 42,\n",
       " 43,\n",
       " 44,\n",
       " 45,\n",
       " 46,\n",
       " 47,\n",
       " 48,\n",
       " 49,\n",
       " 50]"
      ]
     },
     "execution_count": 291,
     "metadata": {},
     "output_type": "execute_result"
    }
   ],
   "source": [
    "numbers"
   ]
  },
  {
   "cell_type": "code",
   "execution_count": 292,
   "id": "d8e1aeaa-5daa-4f8a-a9e3-b5c7bad9fa6c",
   "metadata": {},
   "outputs": [],
   "source": [
    "even_number = [number for number in numbers if number % 2 == 0]"
   ]
  },
  {
   "cell_type": "code",
   "execution_count": 293,
   "id": "91e267ac-794e-4260-8d1d-97c02910e05b",
   "metadata": {},
   "outputs": [
    {
     "data": {
      "text/plain": [
       "[2,\n",
       " 4,\n",
       " 6,\n",
       " 8,\n",
       " 10,\n",
       " 12,\n",
       " 14,\n",
       " 16,\n",
       " 18,\n",
       " 20,\n",
       " 22,\n",
       " 24,\n",
       " 26,\n",
       " 28,\n",
       " 30,\n",
       " 32,\n",
       " 34,\n",
       " 36,\n",
       " 38,\n",
       " 40,\n",
       " 42,\n",
       " 44,\n",
       " 46,\n",
       " 48,\n",
       " 50]"
      ]
     },
     "execution_count": 293,
     "metadata": {},
     "output_type": "execute_result"
    }
   ],
   "source": [
    "even_number"
   ]
  },
  {
   "cell_type": "code",
   "execution_count": 294,
   "id": "73a54a27-b980-41b4-8b4c-23a652dd0ab3",
   "metadata": {},
   "outputs": [],
   "source": [
    "three_number = [number for number in numbers if number % 3 == 0]"
   ]
  },
  {
   "cell_type": "code",
   "execution_count": 295,
   "id": "ae602162-9f72-4766-8700-a59dbb252098",
   "metadata": {},
   "outputs": [
    {
     "data": {
      "text/plain": [
       "[3, 6, 9, 12, 15, 18, 21, 24, 27, 30, 33, 36, 39, 42, 45, 48]"
      ]
     },
     "execution_count": 295,
     "metadata": {},
     "output_type": "execute_result"
    }
   ],
   "source": [
    "three_number"
   ]
  },
  {
   "cell_type": "code",
   "execution_count": 296,
   "id": "8cb15acb-65e5-4738-ba82-2eb8de60d68f",
   "metadata": {},
   "outputs": [
    {
     "data": {
      "text/plain": [
       "8"
      ]
     },
     "execution_count": 296,
     "metadata": {},
     "output_type": "execute_result"
    }
   ],
   "source": [
    "my_number = 6\n",
    "my_number +2"
   ]
  },
  {
   "cell_type": "code",
   "execution_count": 297,
   "id": "aba2f52e-88cb-4e1d-8b5d-2471f9891e10",
   "metadata": {},
   "outputs": [
    {
     "name": "stdout",
     "output_type": "stream",
     "text": [
      "(5, 10)\n"
     ]
    }
   ],
   "source": [
    "add = (5,10)\n",
    "print (add)"
   ]
  },
  {
   "cell_type": "code",
   "execution_count": 298,
   "id": "c4533df0-0ee4-4bde-8006-dddc21fef630",
   "metadata": {},
   "outputs": [
    {
     "name": "stdin",
     "output_type": "stream",
     "text": [
      "Enter your weight in kg:  68\n",
      "Enter your height in meters:  1.72\n"
     ]
    },
    {
     "name": "stdout",
     "output_type": "stream",
     "text": [
      "Your BMI is: 23.0\n",
      "You are in the Normal weight category.\n"
     ]
    }
   ],
   "source": [
    "# BMI Checker Program\n",
    "\n",
    "# Get user input\n",
    "weight = float(input(\"Enter your weight in kg: \"))\n",
    "height = float(input(\"Enter your height in meters: \"))\n",
    "\n",
    "# Check for valid input\n",
    "if weight <= 0 or height <= 0:\n",
    "    print(\"Error: Weight and height must be positive numbers.\")\n",
    "else:\n",
    "    # Calculate BMI\n",
    "    bmi = weight / (height ** 2)\n",
    "    bmi = round(bmi, 1)  # Round to one decimal place\n",
    "\n",
    "    # Print BMI value\n",
    "    print(\"Your BMI is:\", bmi)\n",
    "\n",
    "    # Determine BMI category\n",
    "    if bmi < 18.5:\n",
    "        print(\"You are in the Underweight category.\")\n",
    "    elif 18.5 <= bmi <= 24.9:\n",
    "        print(\"You are in the Normal weight category.\")\n",
    "    elif 25 <= bmi <= 29.9:\n",
    "        print(\"You are in the Overweight category.\")\n",
    "    else:\n",
    "        print(\"You are in the Obese category.\")\n"
   ]
  },
  {
   "cell_type": "code",
   "execution_count": null,
   "id": "8bb2bf72-17d9-45d3-939b-113f2e5f4612",
   "metadata": {},
   "outputs": [],
   "source": [
    "i = 1\n",
    "\n",
    "while i <= 10:\n",
    "    print (i)\n",
    "    if i == 7:\n",
    "        print('I\\'m okay here')\n",
    "        break\n",
    "        i += 1"
   ]
  },
  {
   "cell_type": "code",
   "execution_count": 301,
   "id": "a27e0440-3060-4cad-99e8-8aba6b64db0d",
   "metadata": {},
   "outputs": [
    {
     "name": "stdin",
     "output_type": "stream",
     "text": [
      "Enter your available balance: $ 20\n"
     ]
    },
    {
     "name": "stdout",
     "output_type": "stream",
     "text": [
      "\n",
      "Welcome to our online store\n"
     ]
    },
    {
     "name": "stdin",
     "output_type": "stream",
     "text": [
      "Your balance is $20.00. Enter item price you want to buy: $ 15\n",
      "Are you sure you want to buy this item? (Yes/No):  Yes\n"
     ]
    },
    {
     "name": "stdout",
     "output_type": "stream",
     "text": [
      "Purchase successful\n",
      "Remaining balance: $5.00\n"
     ]
    },
    {
     "name": "stdin",
     "output_type": "stream",
     "text": [
      "Do you want to continue shopping? (Yes/No):  Yes\n"
     ]
    },
    {
     "name": "stdout",
     "output_type": "stream",
     "text": [
      "\n",
      "Welcome to our online store\n"
     ]
    },
    {
     "name": "stdin",
     "output_type": "stream",
     "text": [
      "Your balance is $5.00. Enter item price you want to buy: $ 3\n",
      "Are you sure you want to buy this item? (Yes/No):  Yes\n"
     ]
    },
    {
     "name": "stdout",
     "output_type": "stream",
     "text": [
      "Purchase successful\n",
      "Remaining balance: $2.00\n"
     ]
    },
    {
     "name": "stdin",
     "output_type": "stream",
     "text": [
      "Do you want to continue shopping? (Yes/No):  No\n"
     ]
    },
    {
     "name": "stdout",
     "output_type": "stream",
     "text": [
      "Thank you for patronizing us. Your final balance is $2.00\n"
     ]
    }
   ],
   "source": [
    "balance = float(input(\"Enter your available balance: $\"))\n",
    "\n",
    "while balance > 0:\n",
    "    print(\"\\nWelcome to our online store\")\n",
    "    \n",
    "    try:\n",
    "        item_price = float(input(f'Your balance is ${balance:.2f}. Enter item price you want to buy: $'))\n",
    "    except ValueError:\n",
    "        print(\"Please enter a valid number.\")\n",
    "        continue\n",
    "\n",
    "    # Check for valid item price\n",
    "    if item_price <= 0:\n",
    "        print('Enter a valid amount greater than $0')\n",
    "        continue\n",
    "\n",
    "    # Check if the balance is enough\n",
    "    if item_price > balance:\n",
    "        print('Insufficient funds')\n",
    "        continue\n",
    "\n",
    "    # Confirm purchase \n",
    "    confirm = input('Are you sure you want to buy this item? (Yes/No): ').lower()\n",
    "    if confirm == 'yes':\n",
    "        balance -= item_price\n",
    "        print('Purchase successful')\n",
    "        print(f'Remaining balance: ${balance:.2f}')\n",
    "    else:\n",
    "        print('Purchase cancelled')\n",
    "\n",
    "    # Check if balance is 0\n",
    "    if balance == 0:\n",
    "        print('Thank you for shopping with us. Your balance is now $0.')\n",
    "        break\n",
    "\n",
    "    # Ask user to continue shopping\n",
    "    continue_shopping = input('Do you want to continue shopping? (Yes/No): ').lower()\n",
    "    if continue_shopping != 'yes':\n",
    "        print(f'Thank you for patronizing us. Your final balance is ${balance:.2f}')\n",
    "        break\n"
   ]
  },
  {
   "cell_type": "code",
   "execution_count": 302,
   "id": "63908380-04cb-47b9-a961-81c4c6d61388",
   "metadata": {},
   "outputs": [
    {
     "name": "stdout",
     "output_type": "stream",
     "text": [
      "M\n",
      "O\n",
      "N\n",
      "D\n",
      "A\n",
      "Y\n"
     ]
    }
   ],
   "source": [
    "day = 'MONDAY'\n",
    "for char in day:\n",
    "    print(char)"
   ]
  },
  {
   "cell_type": "code",
   "execution_count": null,
   "id": "845c2b81-7884-4c3e-9927-5d7b611be57d",
   "metadata": {},
   "outputs": [],
   "source": []
  }
 ],
 "metadata": {
  "kernelspec": {
   "display_name": "Python 3 (ipykernel)",
   "language": "python",
   "name": "python3"
  },
  "language_info": {
   "codemirror_mode": {
    "name": "ipython",
    "version": 3
   },
   "file_extension": ".py",
   "mimetype": "text/x-python",
   "name": "python",
   "nbconvert_exporter": "python",
   "pygments_lexer": "ipython3",
   "version": "3.12.7"
  }
 },
 "nbformat": 4,
 "nbformat_minor": 5
}
